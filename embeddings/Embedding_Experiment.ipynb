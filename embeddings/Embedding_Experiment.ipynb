{
  "nbformat": 4,
  "nbformat_minor": 0,
  "metadata": {
    "colab": {
      "provenance": []
    },
    "kernelspec": {
      "name": "python3",
      "display_name": "Python 3"
    },
    "language_info": {
      "name": "python"
    }
  },
  "cells": [
    {
      "cell_type": "markdown",
      "source": [
        "# embeddings\n",
        "\n",
        "Taken from this [tutorial](https://calmcode.io/course/embeddings)\n",
        "\n",
        "Because the goal of this course is to build intuition, you're free not to follow along and just enjoy the video. If you want to reproduce this on your machine however ... feel free to follow along!"
      ],
      "metadata": {
        "id": "JRqWrvUh4FgP"
      }
    },
    {
      "cell_type": "markdown",
      "source": [
        "An experiment\n",
        "Let's explore an experiment that involves training our own \"letter\" embeddings. You can follow along by downloading [this dataset hosted on calmcode](https://calmcode.io/datasets/headlines.html).\n",
        "\n",
        "Once we have the dataset downloaded we'll prepare a dataset that takes all the pairs of letters in sequence such that we have a dataset to train on. The goal is to use the preceeding letter to predict the current one.\n",
        "\n",
        "1. Connect this Colab\n",
        "2. Create a \"data\" folder in Colab root directory\n",
        "3. Please drag and drop \"headlines.zip\" to into this \"data\" directory"
      ],
      "metadata": {
        "id": "yo2wd6Z14bYd"
      }
    },
    {
      "cell_type": "code",
      "execution_count": 1,
      "metadata": {
        "id": "vcxgSzEt3-40"
      },
      "outputs": [],
      "source": [
        "import numpy as np\n",
        "import tensorflow as tf\n",
        "import pandas as pd\n",
        "import itertools as it\n",
        "\n",
        "# Read data\n",
        "words = pd.read_csv('/content/data/headlines.zip').loc[lambda d: ~d['text'].isna()]['text'][:20_000]\n",
        "\n",
        "def sliding_window(txt):\n",
        "    for i in range(len(txt) - 1):\n",
        "        txt = txt.replace(\" \", \"_\")\n",
        "        yield txt[i], txt[i + 1]\n",
        "\n",
        "# Make sliding window\n",
        "window = list(it.chain(*[sliding_window(_) for _ in words]))\n",
        "mapping = {c: i for i, c in enumerate(pd.DataFrame(window)[0].unique())}\n",
        "\n",
        "# Training data\n",
        "integers_in = np.array([mapping[w[0]] for w in window])\n",
        "integers_out = np.array([mapping[w[1]] for w in window]).reshape(-1, 1)\n"
      ]
    },
    {
      "cell_type": "markdown",
      "source": [
        "With that done, we can proceed to setup a neural network for this training procedure. We're using keras with tensorflow here, but the same experiment can be done with Pytorch if you prefer.\n",
        "\n",
        "The code below will create an embedding layer that we can pass letters into and get a vector out of."
      ],
      "metadata": {
        "id": "2E6SnmiN6LdE"
      }
    },
    {
      "cell_type": "code",
      "source": [
        "from tensorflow.keras.layers import Embedding, Dense, Flatten\n",
        "from tensorflow.keras.models import Sequential\n",
        "import matplotlib.pylab as plt\n",
        "\n",
        "num_letters = len(mapping) # typically 36 -> 26 letters + 10 numbers\n",
        "\n",
        "# this one is so we might grab the embeddings\n",
        "model_emb = Sequential()\n",
        "embedding = Embedding(num_letters, 2, input_length=1)\n",
        "model_emb.add(embedding)\n",
        "\n",
        "idx_to_calc = list(mapping.values())\n",
        "idx_to_calc = np.array([idx_to_calc]).T\n",
        "\n",
        "translator = {v:k for k,v in mapping.items()}\n",
        "# Generate the 2d embeddings on an untrained network\n",
        "preds = model_emb.predict(idx_to_calc)\n"
      ],
      "metadata": {
        "colab": {
          "base_uri": "https://localhost:8080/"
        },
        "id": "Z23EC88W6Ma8",
        "outputId": "9f77afca-1a0a-4eba-bb0c-4099ccdd9251"
      },
      "execution_count": 2,
      "outputs": [
        {
          "output_type": "stream",
          "name": "stdout",
          "text": [
            "\r\u001b[1m1/2\u001b[0m \u001b[32m━━━━━━━━━━\u001b[0m\u001b[37m━━━━━━━━━━\u001b[0m \u001b[1m0s\u001b[0m 106ms/step"
          ]
        },
        {
          "output_type": "stream",
          "name": "stderr",
          "text": [
            "/usr/local/lib/python3.10/dist-packages/keras/src/layers/core/embedding.py:90: UserWarning: Argument `input_length` is deprecated. Just remove it.\n",
            "  warnings.warn(\n"
          ]
        },
        {
          "output_type": "stream",
          "name": "stdout",
          "text": [
            "\b\b\b\b\b\b\b\b\b\b\b\b\b\b\b\b\b\b\b\b\b\b\b\b\b\b\b\b\b\b\b\b\b\b\b\b\b\b\r\u001b[1m2/2\u001b[0m \u001b[32m━━━━━━━━━━━━━━━━━━━━\u001b[0m\u001b[37m\u001b[0m \u001b[1m0s\u001b[0m 30ms/step \n"
          ]
        }
      ]
    },
    {
      "cell_type": "markdown",
      "source": [
        "We can take the predictions on the untrained model and plot them using matplotlib."
      ],
      "metadata": {
        "id": "LHfMwq8D6Rhb"
      }
    },
    {
      "cell_type": "code",
      "source": [
        "# Plot the 2d embeddings of each letter\n",
        "plt.scatter(preds[:, 0, 0], preds[:, 0, 1], alpha=0)\n",
        "for i, idx in enumerate(idx_to_calc):\n",
        "      plt.text(preds[i, 0, 0], preds[i, 0, 1], translator[idx[0]])\n"
      ],
      "metadata": {
        "colab": {
          "base_uri": "https://localhost:8080/",
          "height": 430
        },
        "id": "VefCQVDC6SkG",
        "outputId": "07e7c634-969d-4c38-db6c-882200d8675a"
      },
      "execution_count": 3,
      "outputs": [
        {
          "output_type": "display_data",
          "data": {
            "text/plain": [
              "<Figure size 640x480 with 1 Axes>"
            ],
            "image/png": "[encoded data removed]"
          },
          "metadata": {}
        }
      ]
    },
    {
      "cell_type": "markdown",
      "source": [
        "You'll notice that the letters are all over the place initially, but when we start training ... this might change.\n",
        "\n",
        "This is the Keras model definition:"
      ],
      "metadata": {
        "id": "KHzPX8S46X5Q"
      }
    },
    {
      "cell_type": "code",
      "source": [
        "from tensorflow.keras.optimizers import Adam\n",
        "\n",
        "# this one is so we might learn the mapping\n",
        "model_pred = Sequential()\n",
        "model_pred.add(embedding)\n",
        "model_pred.add(Flatten())\n",
        "model_pred.add(Dense(num_letters, activation=\"softmax\"))\n",
        "\n",
        "adam = Adam(learning_rate=0.001, beta_1=0.9, beta_2=0.999, amsgrad=False)\n",
        "\n",
        "model_pred.compile(adam, 'categorical_crossentropy', metrics=['accuracy'])\n"
      ],
      "metadata": {
        "id": "7selkpaI6ZIs"
      },
      "execution_count": 4,
      "outputs": []
    },
    {
      "cell_type": "markdown",
      "source": [
        "This is the code that generates the new plot after training for one epoch."
      ],
      "metadata": {
        "id": "4jH8bpBo6b-e"
      }
    },
    {
      "cell_type": "code",
      "source": [
        "from sklearn.preprocessing import OneHotEncoder\n",
        "\n",
        "#to_predict = OneHotEncoder(sparse=False).fit_transform(integers_out)\n",
        "to_predict = OneHotEncoder(sparse_output=False).fit_transform(integers_out)\n",
        "model_pred.fit(integers_in, to_predict, epochs=25, verbose=1)  # epochs=1\n",
        "\n",
        "preds = model_emb.predict(idx_to_calc)\n",
        "plt.scatter(preds[:, 0, 0], preds[:, 0, 1], alpha=0)\n",
        "for i, idx in enumerate(idx_to_calc):\n",
        "    plt.text(preds[i, 0, 0], preds[i, 0, 1], translator[idx[0]])\n"
      ],
      "metadata": {
        "colab": {
          "base_uri": "https://localhost:8080/",
          "height": 1000
        },
        "id": "M9wos8lH6dQC",
        "outputId": "61ca66ad-1b68-49d7-803d-79b93dfabd50"
      },
      "execution_count": 7,
      "outputs": [
        {
          "output_type": "stream",
          "name": "stdout",
          "text": [
            "Epoch 1/25\n",
            "\u001b[1m23907/23907\u001b[0m \u001b[32m━━━━━━━━━━━━━━━━━━━━\u001b[0m\u001b[37m\u001b[0m \u001b[1m37s\u001b[0m 2ms/step - accuracy: 0.1955 - loss: 2.6621\n",
            "Epoch 2/25\n",
            "\u001b[1m23907/23907\u001b[0m \u001b[32m━━━━━━━━━━━━━━━━━━━━\u001b[0m\u001b[37m\u001b[0m \u001b[1m41s\u001b[0m 2ms/step - accuracy: 0.1958 - loss: 2.6608\n",
            "Epoch 3/25\n",
            "\u001b[1m23907/23907\u001b[0m \u001b[32m━━━━━━━━━━━━━━━━━━━━\u001b[0m\u001b[37m\u001b[0m \u001b[1m35s\u001b[0m 1ms/step - accuracy: 0.1954 - loss: 2.6612\n",
            "Epoch 4/25\n",
            "\u001b[1m23907/23907\u001b[0m \u001b[32m━━━━━━━━━━━━━━━━━━━━\u001b[0m\u001b[37m\u001b[0m \u001b[1m37s\u001b[0m 2ms/step - accuracy: 0.1958 - loss: 2.6601\n",
            "Epoch 5/25\n",
            "\u001b[1m23907/23907\u001b[0m \u001b[32m━━━━━━━━━━━━━━━━━━━━\u001b[0m\u001b[37m\u001b[0m \u001b[1m41s\u001b[0m 2ms/step - accuracy: 0.1961 - loss: 2.6598\n",
            "Epoch 6/25\n",
            "\u001b[1m23907/23907\u001b[0m \u001b[32m━━━━━━━━━━━━━━━━━━━━\u001b[0m\u001b[37m\u001b[0m \u001b[1m41s\u001b[0m 2ms/step - accuracy: 0.1960 - loss: 2.6591\n",
            "Epoch 7/25\n",
            "\u001b[1m23907/23907\u001b[0m \u001b[32m━━━━━━━━━━━━━━━━━━━━\u001b[0m\u001b[37m\u001b[0m \u001b[1m41s\u001b[0m 2ms/step - accuracy: 0.1966 - loss: 2.6567\n",
            "Epoch 8/25\n",
            "\u001b[1m23907/23907\u001b[0m \u001b[32m━━━━━━━━━━━━━━━━━━━━\u001b[0m\u001b[37m\u001b[0m \u001b[1m36s\u001b[0m 1ms/step - accuracy: 0.1965 - loss: 2.6580\n",
            "Epoch 9/25\n",
            "\u001b[1m23907/23907\u001b[0m \u001b[32m━━━━━━━━━━━━━━━━━━━━\u001b[0m\u001b[37m\u001b[0m \u001b[1m37s\u001b[0m 2ms/step - accuracy: 0.1961 - loss: 2.6578\n",
            "Epoch 10/25\n",
            "\u001b[1m23907/23907\u001b[0m \u001b[32m━━━━━━━━━━━━━━━━━━━━\u001b[0m\u001b[37m\u001b[0m \u001b[1m37s\u001b[0m 2ms/step - accuracy: 0.1960 - loss: 2.6585\n",
            "Epoch 11/25\n",
            "\u001b[1m23907/23907\u001b[0m \u001b[32m━━━━━━━━━━━━━━━━━━━━\u001b[0m\u001b[37m\u001b[0m \u001b[1m36s\u001b[0m 1ms/step - accuracy: 0.1964 - loss: 2.6569\n",
            "Epoch 12/25\n",
            "\u001b[1m23907/23907\u001b[0m \u001b[32m━━━━━━━━━━━━━━━━━━━━\u001b[0m\u001b[37m\u001b[0m \u001b[1m37s\u001b[0m 2ms/step - accuracy: 0.1962 - loss: 2.6566\n",
            "Epoch 13/25\n",
            "\u001b[1m23907/23907\u001b[0m \u001b[32m━━━━━━━━━━━━━━━━━━━━\u001b[0m\u001b[37m\u001b[0m \u001b[1m36s\u001b[0m 2ms/step - accuracy: 0.1968 - loss: 2.6561\n",
            "Epoch 14/25\n",
            "\u001b[1m23907/23907\u001b[0m \u001b[32m━━━━━━━━━━━━━━━━━━━━\u001b[0m\u001b[37m\u001b[0m \u001b[1m36s\u001b[0m 2ms/step - accuracy: 0.1968 - loss: 2.6579\n",
            "Epoch 15/25\n",
            "\u001b[1m23907/23907\u001b[0m \u001b[32m━━━━━━━━━━━━━━━━━━━━\u001b[0m\u001b[37m\u001b[0m \u001b[1m41s\u001b[0m 2ms/step - accuracy: 0.1965 - loss: 2.6577\n",
            "Epoch 16/25\n",
            "\u001b[1m23907/23907\u001b[0m \u001b[32m━━━━━━━━━━━━━━━━━━━━\u001b[0m\u001b[37m\u001b[0m \u001b[1m41s\u001b[0m 2ms/step - accuracy: 0.1971 - loss: 2.6559\n",
            "Epoch 17/25\n",
            "\u001b[1m23907/23907\u001b[0m \u001b[32m━━━━━━━━━━━━━━━━━━━━\u001b[0m\u001b[37m\u001b[0m \u001b[1m37s\u001b[0m 2ms/step - accuracy: 0.1968 - loss: 2.6576\n",
            "Epoch 18/25\n",
            "\u001b[1m23907/23907\u001b[0m \u001b[32m━━━━━━━━━━━━━━━━━━━━\u001b[0m\u001b[37m\u001b[0m \u001b[1m36s\u001b[0m 1ms/step - accuracy: 0.1967 - loss: 2.6592\n",
            "Epoch 19/25\n",
            "\u001b[1m23907/23907\u001b[0m \u001b[32m━━━━━━━━━━━━━━━━━━━━\u001b[0m\u001b[37m\u001b[0m \u001b[1m41s\u001b[0m 1ms/step - accuracy: 0.1974 - loss: 2.6569\n",
            "Epoch 20/25\n",
            "\u001b[1m23907/23907\u001b[0m \u001b[32m━━━━━━━━━━━━━━━━━━━━\u001b[0m\u001b[37m\u001b[0m \u001b[1m42s\u001b[0m 2ms/step - accuracy: 0.1972 - loss: 2.6568\n",
            "Epoch 21/25\n",
            "\u001b[1m23907/23907\u001b[0m \u001b[32m━━━━━━━━━━━━━━━━━━━━\u001b[0m\u001b[37m\u001b[0m \u001b[1m37s\u001b[0m 2ms/step - accuracy: 0.1961 - loss: 2.6560\n",
            "Epoch 22/25\n",
            "\u001b[1m23907/23907\u001b[0m \u001b[32m━━━━━━━━━━━━━━━━━━━━\u001b[0m\u001b[37m\u001b[0m \u001b[1m37s\u001b[0m 2ms/step - accuracy: 0.1978 - loss: 2.6563\n",
            "Epoch 23/25\n",
            "\u001b[1m23907/23907\u001b[0m \u001b[32m━━━━━━━━━━━━━━━━━━━━\u001b[0m\u001b[37m\u001b[0m \u001b[1m41s\u001b[0m 2ms/step - accuracy: 0.1973 - loss: 2.6577\n",
            "Epoch 24/25\n",
            "\u001b[1m23907/23907\u001b[0m \u001b[32m━━━━━━━━━━━━━━━━━━━━\u001b[0m\u001b[37m\u001b[0m \u001b[1m41s\u001b[0m 2ms/step - accuracy: 0.1975 - loss: 2.6557\n",
            "Epoch 25/25\n",
            "\u001b[1m23907/23907\u001b[0m \u001b[32m━━━━━━━━━━━━━━━━━━━━\u001b[0m\u001b[37m\u001b[0m \u001b[1m36s\u001b[0m 1ms/step - accuracy: 0.1971 - loss: 2.6571\n",
            "\u001b[1m2/2\u001b[0m \u001b[32m━━━━━━━━━━━━━━━━━━━━\u001b[0m\u001b[37m\u001b[0m \u001b[1m0s\u001b[0m 5ms/step \n"
          ]
        },
        {
          "output_type": "display_data",
          "data": {
            "text/plain": [
              "<Figure size 640x480 with 1 Axes>"
            ],
            "image/png": "[encoded data removed]"
          },
          "metadata": {}
        }
      ]
    },
    {
      "cell_type": "markdown",
      "source": [
        "So what might the chart change when we run this code?"
      ],
      "metadata": {
        "id": "0R_pAI2T6h_w"
      }
    }
  ]
}