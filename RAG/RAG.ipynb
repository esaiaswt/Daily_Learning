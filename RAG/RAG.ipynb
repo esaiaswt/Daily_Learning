{
  "cells": [
    {
      "cell_type": "markdown",
      "source": [
        "# Understanding RAG: Building a RAG system from scratch with Gemini API\n",
        "\n",
        "Taken from this [medium article](https://medium.com/@saurabhgssingh/understanding-rag-building-a-rag-system-from-scratch-with-gemini-api-b11ad9fc1bf7) by [Saurabh Singh](https://medium.com/@saurabhgssingh?source=post_page---byline--b11ad9fc1bf7--------------------------------)"
      ],
      "metadata": {
        "id": "Ymw0u5UmMvhG"
      }
    },
    {
      "cell_type": "markdown",
      "source": [
        "With the advent of Large Language Models (LLMs) in mainstream industry, one of the most powerful applications has been the development of question-answering chatbots. Retrieval Augmented Generation (RAG) is a methodology that combines the powers of a retrieval system along with LLM’s text generation capabilities to build reliable QnA systems. The retrieval system provides knowledge enrichment to generative models that can help overcome some of the limitations of LLMs, such as presenting false, out-of-date, or generic information.\n",
        "\n",
        "In this article, we will understand the main components of retrieval augmented generation and also implement each of them step by step."
      ],
      "metadata": {
        "id": "dA4m5iq5OC9L"
      }
    },
    {
      "cell_type": "markdown",
      "source": [
        "## Introduction\n",
        "A RAG system can be broken down into three major components\n",
        "\n",
        "1. Indexing: A pipeline that loads the data(ingestion), processes it, and then stores it. You need to index the documents only once\n",
        "2. Retrieval: Given a user query, it retrieves relevant data from the index(stored documents)\n",
        "3. Generation: The relevant data retrieved from the index is fed to a Language model to generate answer for the user query\n",
        "\n",
        "The retrieval and generation steps work in tandem every time a user enters a query. Lets us delve into each component step by step. We will also learn to implement these steps through few lines of code. We will be using Gemini Pro API as our LLM and ChromaDB as our Vector Database\n",
        "\n",
        "### Prerequisites:\n",
        "\n",
        "* You will need a gemini pro api key (free) to follow along. Refer [this](https://support.gemini.com/hc/en-us/articles/360031080191-How-do-I-create-an-API-key#:~:text=API%20keys%20can%20be%20created,use%20when%20creating%20API%20keys%3F) to get your free api key.\n",
        "* An anaconda environment with the [following](https://github.com/saurabhgssingh/RAG/blob/main/requirements.txt) libraries installed.\n",
        "* All the codes can be found in the follow along [notebook](https://github.com/saurabhgssingh/RAG/blob/main/RAG.ipynb) and in this [repo](https://github.com/saurabhgssingh/RAG/).\n",
        "Set the API key as environment variable in your environment:"
      ],
      "metadata": {
        "id": "3rUNy_BVOHIz"
      }
    },
    {
      "cell_type": "code",
      "source": [
        "!pip install pypdf==4.0.0"
      ],
      "metadata": {
        "colab": {
          "base_uri": "https://localhost:8080/"
        },
        "id": "UIjWsvweRykh",
        "outputId": "edb2ad6b-c781-4323-9fd3-a15ce0f10beb"
      },
      "execution_count": 1,
      "outputs": [
        {
          "output_type": "stream",
          "name": "stdout",
          "text": [
            "Collecting pypdf==4.0.0\n",
            "  Downloading pypdf-4.0.0-py3-none-any.whl.metadata (7.4 kB)\n",
            "Downloading pypdf-4.0.0-py3-none-any.whl (283 kB)\n",
            "\u001b[?25l   \u001b[90m━━━━━━━━━━━━━━━━━━━━━━━━━━━━━━━━━━━━━━━━\u001b[0m \u001b[32m0.0/283.9 kB\u001b[0m \u001b[31m?\u001b[0m eta \u001b[36m-:--:--\u001b[0m\r\u001b[2K   \u001b[91m━━━━━━━━━━━━━━━━━━━━━\u001b[0m\u001b[91m╸\u001b[0m\u001b[90m━━━━━━━━━━━━━━━━━━\u001b[0m \u001b[32m153.6/283.9 kB\u001b[0m \u001b[31m4.4 MB/s\u001b[0m eta \u001b[36m0:00:01\u001b[0m\r\u001b[2K   \u001b[90m━━━━━━━━━━━━━━━━━━━━━━━━━━━━━━━━━━━━━━━━\u001b[0m \u001b[32m283.9/283.9 kB\u001b[0m \u001b[31m5.3 MB/s\u001b[0m eta \u001b[36m0:00:00\u001b[0m\n",
            "\u001b[?25hInstalling collected packages: pypdf\n",
            "Successfully installed pypdf-4.0.0\n"
          ]
        }
      ]
    },
    {
      "cell_type": "code",
      "source": [
        "!pip install PyPDF2==3.0.1"
      ],
      "metadata": {
        "colab": {
          "base_uri": "https://localhost:8080/"
        },
        "id": "_07dakDMSBgh",
        "outputId": "cdd9d02e-a2e9-4965-a32c-98d5d5704c6f"
      },
      "execution_count": 2,
      "outputs": [
        {
          "output_type": "stream",
          "name": "stdout",
          "text": [
            "Collecting PyPDF2==3.0.1\n",
            "  Downloading pypdf2-3.0.1-py3-none-any.whl.metadata (6.8 kB)\n",
            "Downloading pypdf2-3.0.1-py3-none-any.whl (232 kB)\n",
            "\u001b[?25l   \u001b[90m━━━━━━━━━━━━━━━━━━━━━━━━━━━━━━━━━━━━━━━━\u001b[0m \u001b[32m0.0/232.6 kB\u001b[0m \u001b[31m?\u001b[0m eta \u001b[36m-:--:--\u001b[0m\r\u001b[2K   \u001b[91m━━━━━━━━━━━━━━━━━━━\u001b[0m\u001b[90m╺\u001b[0m\u001b[90m━━━━━━━━━━━━━━━━━━━━\u001b[0m \u001b[32m112.6/232.6 kB\u001b[0m \u001b[31m3.1 MB/s\u001b[0m eta \u001b[36m0:00:01\u001b[0m\r\u001b[2K   \u001b[90m━━━━━━━━━━━━━━━━━━━━━━━━━━━━━━━━━━━━━━━━\u001b[0m \u001b[32m232.6/232.6 kB\u001b[0m \u001b[31m3.7 MB/s\u001b[0m eta \u001b[36m0:00:00\u001b[0m\n",
            "\u001b[?25hInstalling collected packages: PyPDF2\n",
            "Successfully installed PyPDF2-3.0.1\n"
          ]
        }
      ]
    },
    {
      "cell_type": "code",
      "source": [
        "#!pip install pandas==2.2.0"
      ],
      "metadata": {
        "colab": {
          "base_uri": "https://localhost:8080/"
        },
        "id": "MlKxAb0_SHE-",
        "outputId": "c3a92900-ead3-4778-ed2b-00af24c74d66"
      },
      "execution_count": 5,
      "outputs": [
        {
          "output_type": "stream",
          "name": "stdout",
          "text": [
            "Collecting pandas==2.2.0\n",
            "  Downloading pandas-2.2.0-cp310-cp310-manylinux_2_17_x86_64.manylinux2014_x86_64.whl.metadata (19 kB)\n",
            "Requirement already satisfied: numpy<2,>=1.22.4 in /usr/local/lib/python3.10/dist-packages (from pandas==2.2.0) (1.26.4)\n",
            "Requirement already satisfied: python-dateutil>=2.8.2 in /usr/local/lib/python3.10/dist-packages (from pandas==2.2.0) (2.8.2)\n",
            "Requirement already satisfied: pytz>=2020.1 in /usr/local/lib/python3.10/dist-packages (from pandas==2.2.0) (2024.2)\n",
            "Requirement already satisfied: tzdata>=2022.7 in /usr/local/lib/python3.10/dist-packages (from pandas==2.2.0) (2024.2)\n",
            "Requirement already satisfied: six>=1.5 in /usr/local/lib/python3.10/dist-packages (from python-dateutil>=2.8.2->pandas==2.2.0) (1.16.0)\n",
            "Downloading pandas-2.2.0-cp310-cp310-manylinux_2_17_x86_64.manylinux2014_x86_64.whl (13.0 MB)\n",
            "\u001b[2K   \u001b[90m━━━━━━━━━━━━━━━━━━━━━━━━━━━━━━━━━━━━━━━━\u001b[0m \u001b[32m13.0/13.0 MB\u001b[0m \u001b[31m86.5 MB/s\u001b[0m eta \u001b[36m0:00:00\u001b[0m\n",
            "\u001b[?25hInstalling collected packages: pandas\n",
            "  Attempting uninstall: pandas\n",
            "    Found existing installation: pandas 2.2.2\n",
            "    Uninstalling pandas-2.2.2:\n",
            "      Successfully uninstalled pandas-2.2.2\n",
            "\u001b[31mERROR: pip's dependency resolver does not currently take into account all the packages that are installed. This behaviour is the source of the following dependency conflicts.\n",
            "google-colab 1.0.0 requires pandas==2.2.2, but you have pandas 2.2.0 which is incompatible.\u001b[0m\u001b[31m\n",
            "\u001b[0mSuccessfully installed pandas-2.2.0\n"
          ]
        }
      ]
    },
    {
      "cell_type": "code",
      "source": [
        "!pip install chromadb==0.4.22"
      ],
      "metadata": {
        "colab": {
          "base_uri": "https://localhost:8080/"
        },
        "id": "xS-EWSyoSKRp",
        "outputId": "6ff94487-0f84-4af1-c3e5-a2ae75497c9a"
      },
      "execution_count": 3,
      "outputs": [
        {
          "output_type": "stream",
          "name": "stdout",
          "text": [
            "Collecting chromadb==0.4.22\n",
            "  Downloading chromadb-0.4.22-py3-none-any.whl.metadata (7.3 kB)\n",
            "Collecting build>=1.0.3 (from chromadb==0.4.22)\n",
            "  Downloading build-1.2.2.post1-py3-none-any.whl.metadata (6.5 kB)\n",
            "Requirement already satisfied: requests>=2.28 in /usr/local/lib/python3.10/dist-packages (from chromadb==0.4.22) (2.32.3)\n",
            "Requirement already satisfied: pydantic>=1.9 in /usr/local/lib/python3.10/dist-packages (from chromadb==0.4.22) (2.9.2)\n",
            "Collecting chroma-hnswlib==0.7.3 (from chromadb==0.4.22)\n",
            "  Downloading chroma_hnswlib-0.7.3-cp310-cp310-manylinux_2_17_x86_64.manylinux2014_x86_64.whl.metadata (252 bytes)\n",
            "Collecting fastapi>=0.95.2 (from chromadb==0.4.22)\n",
            "  Downloading fastapi-0.115.5-py3-none-any.whl.metadata (27 kB)\n",
            "Collecting uvicorn>=0.18.3 (from uvicorn[standard]>=0.18.3->chromadb==0.4.22)\n",
            "  Downloading uvicorn-0.32.1-py3-none-any.whl.metadata (6.6 kB)\n",
            "Requirement already satisfied: numpy>=1.22.5 in /usr/local/lib/python3.10/dist-packages (from chromadb==0.4.22) (1.26.4)\n",
            "Collecting posthog>=2.4.0 (from chromadb==0.4.22)\n",
            "  Downloading posthog-3.7.2-py2.py3-none-any.whl.metadata (2.0 kB)\n",
            "Requirement already satisfied: typing-extensions>=4.5.0 in /usr/local/lib/python3.10/dist-packages (from chromadb==0.4.22) (4.12.2)\n",
            "Collecting pulsar-client>=3.1.0 (from chromadb==0.4.22)\n",
            "  Downloading pulsar_client-3.5.0-cp310-cp310-manylinux_2_17_x86_64.manylinux2014_x86_64.whl.metadata (1.0 kB)\n",
            "Collecting onnxruntime>=1.14.1 (from chromadb==0.4.22)\n",
            "  Downloading onnxruntime-1.20.1-cp310-cp310-manylinux_2_27_x86_64.manylinux_2_28_x86_64.whl.metadata (4.5 kB)\n",
            "Requirement already satisfied: opentelemetry-api>=1.2.0 in /usr/local/lib/python3.10/dist-packages (from chromadb==0.4.22) (1.28.2)\n",
            "Collecting opentelemetry-exporter-otlp-proto-grpc>=1.2.0 (from chromadb==0.4.22)\n",
            "  Downloading opentelemetry_exporter_otlp_proto_grpc-1.28.2-py3-none-any.whl.metadata (2.2 kB)\n",
            "Collecting opentelemetry-instrumentation-fastapi>=0.41b0 (from chromadb==0.4.22)\n",
            "  Downloading opentelemetry_instrumentation_fastapi-0.49b2-py3-none-any.whl.metadata (2.1 kB)\n",
            "Requirement already satisfied: opentelemetry-sdk>=1.2.0 in /usr/local/lib/python3.10/dist-packages (from chromadb==0.4.22) (1.28.2)\n",
            "Requirement already satisfied: tokenizers>=0.13.2 in /usr/local/lib/python3.10/dist-packages (from chromadb==0.4.22) (0.20.3)\n",
            "Collecting pypika>=0.48.9 (from chromadb==0.4.22)\n",
            "  Downloading PyPika-0.48.9.tar.gz (67 kB)\n",
            "\u001b[2K     \u001b[90m━━━━━━━━━━━━━━━━━━━━━━━━━━━━━━━━━━━━━━━━\u001b[0m \u001b[32m67.3/67.3 kB\u001b[0m \u001b[31m3.8 MB/s\u001b[0m eta \u001b[36m0:00:00\u001b[0m\n",
            "\u001b[?25h  Installing build dependencies ... \u001b[?25l\u001b[?25hdone\n",
            "  Getting requirements to build wheel ... \u001b[?25l\u001b[?25hdone\n",
            "  Preparing metadata (pyproject.toml) ... \u001b[?25l\u001b[?25hdone\n",
            "Requirement already satisfied: tqdm>=4.65.0 in /usr/local/lib/python3.10/dist-packages (from chromadb==0.4.22) (4.66.6)\n",
            "Collecting overrides>=7.3.1 (from chromadb==0.4.22)\n",
            "  Downloading overrides-7.7.0-py3-none-any.whl.metadata (5.8 kB)\n",
            "Requirement already satisfied: importlib-resources in /usr/local/lib/python3.10/dist-packages (from chromadb==0.4.22) (6.4.5)\n",
            "Requirement already satisfied: grpcio>=1.58.0 in /usr/local/lib/python3.10/dist-packages (from chromadb==0.4.22) (1.68.0)\n",
            "Collecting bcrypt>=4.0.1 (from chromadb==0.4.22)\n",
            "  Downloading bcrypt-4.2.1-cp39-abi3-manylinux_2_28_x86_64.whl.metadata (9.8 kB)\n",
            "Requirement already satisfied: typer>=0.9.0 in /usr/local/lib/python3.10/dist-packages (from chromadb==0.4.22) (0.13.0)\n",
            "Collecting kubernetes>=28.1.0 (from chromadb==0.4.22)\n",
            "  Downloading kubernetes-31.0.0-py2.py3-none-any.whl.metadata (1.5 kB)\n",
            "Requirement already satisfied: tenacity>=8.2.3 in /usr/local/lib/python3.10/dist-packages (from chromadb==0.4.22) (9.0.0)\n",
            "Requirement already satisfied: PyYAML>=6.0.0 in /usr/local/lib/python3.10/dist-packages (from chromadb==0.4.22) (6.0.2)\n",
            "Collecting mmh3>=4.0.1 (from chromadb==0.4.22)\n",
            "  Downloading mmh3-5.0.1-cp310-cp310-manylinux_2_5_x86_64.manylinux1_x86_64.manylinux_2_17_x86_64.manylinux2014_x86_64.whl.metadata (14 kB)\n",
            "Requirement already satisfied: packaging>=19.1 in /usr/local/lib/python3.10/dist-packages (from build>=1.0.3->chromadb==0.4.22) (24.2)\n",
            "Collecting pyproject_hooks (from build>=1.0.3->chromadb==0.4.22)\n",
            "  Downloading pyproject_hooks-1.2.0-py3-none-any.whl.metadata (1.3 kB)\n",
            "Requirement already satisfied: tomli>=1.1.0 in /usr/local/lib/python3.10/dist-packages (from build>=1.0.3->chromadb==0.4.22) (2.1.0)\n",
            "Collecting starlette<0.42.0,>=0.40.0 (from fastapi>=0.95.2->chromadb==0.4.22)\n",
            "  Downloading starlette-0.41.3-py3-none-any.whl.metadata (6.0 kB)\n",
            "Requirement already satisfied: certifi>=14.05.14 in /usr/local/lib/python3.10/dist-packages (from kubernetes>=28.1.0->chromadb==0.4.22) (2024.8.30)\n",
            "Requirement already satisfied: six>=1.9.0 in /usr/local/lib/python3.10/dist-packages (from kubernetes>=28.1.0->chromadb==0.4.22) (1.16.0)\n",
            "Requirement already satisfied: python-dateutil>=2.5.3 in /usr/local/lib/python3.10/dist-packages (from kubernetes>=28.1.0->chromadb==0.4.22) (2.8.2)\n",
            "Requirement already satisfied: google-auth>=1.0.1 in /usr/local/lib/python3.10/dist-packages (from kubernetes>=28.1.0->chromadb==0.4.22) (2.27.0)\n",
            "Requirement already satisfied: websocket-client!=0.40.0,!=0.41.*,!=0.42.*,>=0.32.0 in /usr/local/lib/python3.10/dist-packages (from kubernetes>=28.1.0->chromadb==0.4.22) (1.8.0)\n",
            "Requirement already satisfied: requests-oauthlib in /usr/local/lib/python3.10/dist-packages (from kubernetes>=28.1.0->chromadb==0.4.22) (1.3.1)\n",
            "Requirement already satisfied: oauthlib>=3.2.2 in /usr/local/lib/python3.10/dist-packages (from kubernetes>=28.1.0->chromadb==0.4.22) (3.2.2)\n",
            "Requirement already satisfied: urllib3>=1.24.2 in /usr/local/lib/python3.10/dist-packages (from kubernetes>=28.1.0->chromadb==0.4.22) (2.2.3)\n",
            "Collecting durationpy>=0.7 (from kubernetes>=28.1.0->chromadb==0.4.22)\n",
            "  Downloading durationpy-0.9-py3-none-any.whl.metadata (338 bytes)\n",
            "Collecting coloredlogs (from onnxruntime>=1.14.1->chromadb==0.4.22)\n",
            "  Downloading coloredlogs-15.0.1-py2.py3-none-any.whl.metadata (12 kB)\n",
            "Requirement already satisfied: flatbuffers in /usr/local/lib/python3.10/dist-packages (from onnxruntime>=1.14.1->chromadb==0.4.22) (24.3.25)\n",
            "Requirement already satisfied: protobuf in /usr/local/lib/python3.10/dist-packages (from onnxruntime>=1.14.1->chromadb==0.4.22) (4.25.5)\n",
            "Requirement already satisfied: sympy in /usr/local/lib/python3.10/dist-packages (from onnxruntime>=1.14.1->chromadb==0.4.22) (1.13.1)\n",
            "Requirement already satisfied: deprecated>=1.2.6 in /usr/local/lib/python3.10/dist-packages (from opentelemetry-api>=1.2.0->chromadb==0.4.22) (1.2.15)\n",
            "Requirement already satisfied: importlib-metadata<=8.5.0,>=6.0 in /usr/local/lib/python3.10/dist-packages (from opentelemetry-api>=1.2.0->chromadb==0.4.22) (8.5.0)\n",
            "Requirement already satisfied: googleapis-common-protos~=1.52 in /usr/local/lib/python3.10/dist-packages (from opentelemetry-exporter-otlp-proto-grpc>=1.2.0->chromadb==0.4.22) (1.66.0)\n",
            "Collecting opentelemetry-exporter-otlp-proto-common==1.28.2 (from opentelemetry-exporter-otlp-proto-grpc>=1.2.0->chromadb==0.4.22)\n",
            "  Downloading opentelemetry_exporter_otlp_proto_common-1.28.2-py3-none-any.whl.metadata (1.8 kB)\n",
            "Collecting opentelemetry-proto==1.28.2 (from opentelemetry-exporter-otlp-proto-grpc>=1.2.0->chromadb==0.4.22)\n",
            "  Downloading opentelemetry_proto-1.28.2-py3-none-any.whl.metadata (2.3 kB)\n",
            "Collecting protobuf (from onnxruntime>=1.14.1->chromadb==0.4.22)\n",
            "  Downloading protobuf-5.28.3-cp38-abi3-manylinux2014_x86_64.whl.metadata (592 bytes)\n",
            "Collecting opentelemetry-instrumentation-asgi==0.49b2 (from opentelemetry-instrumentation-fastapi>=0.41b0->chromadb==0.4.22)\n",
            "  Downloading opentelemetry_instrumentation_asgi-0.49b2-py3-none-any.whl.metadata (1.9 kB)\n",
            "Collecting opentelemetry-instrumentation==0.49b2 (from opentelemetry-instrumentation-fastapi>=0.41b0->chromadb==0.4.22)\n",
            "  Downloading opentelemetry_instrumentation-0.49b2-py3-none-any.whl.metadata (6.1 kB)\n",
            "Requirement already satisfied: opentelemetry-semantic-conventions==0.49b2 in /usr/local/lib/python3.10/dist-packages (from opentelemetry-instrumentation-fastapi>=0.41b0->chromadb==0.4.22) (0.49b2)\n",
            "Collecting opentelemetry-util-http==0.49b2 (from opentelemetry-instrumentation-fastapi>=0.41b0->chromadb==0.4.22)\n",
            "  Downloading opentelemetry_util_http-0.49b2-py3-none-any.whl.metadata (2.5 kB)\n",
            "Requirement already satisfied: wrapt<2.0.0,>=1.0.0 in /usr/local/lib/python3.10/dist-packages (from opentelemetry-instrumentation==0.49b2->opentelemetry-instrumentation-fastapi>=0.41b0->chromadb==0.4.22) (1.16.0)\n",
            "Collecting asgiref~=3.0 (from opentelemetry-instrumentation-asgi==0.49b2->opentelemetry-instrumentation-fastapi>=0.41b0->chromadb==0.4.22)\n",
            "  Downloading asgiref-3.8.1-py3-none-any.whl.metadata (9.3 kB)\n",
            "Collecting monotonic>=1.5 (from posthog>=2.4.0->chromadb==0.4.22)\n",
            "  Downloading monotonic-1.6-py2.py3-none-any.whl.metadata (1.5 kB)\n",
            "Collecting backoff>=1.10.0 (from posthog>=2.4.0->chromadb==0.4.22)\n",
            "  Downloading backoff-2.2.1-py3-none-any.whl.metadata (14 kB)\n",
            "Requirement already satisfied: annotated-types>=0.6.0 in /usr/local/lib/python3.10/dist-packages (from pydantic>=1.9->chromadb==0.4.22) (0.7.0)\n",
            "Requirement already satisfied: pydantic-core==2.23.4 in /usr/local/lib/python3.10/dist-packages (from pydantic>=1.9->chromadb==0.4.22) (2.23.4)\n",
            "Requirement already satisfied: charset-normalizer<4,>=2 in /usr/local/lib/python3.10/dist-packages (from requests>=2.28->chromadb==0.4.22) (3.4.0)\n",
            "Requirement already satisfied: idna<4,>=2.5 in /usr/local/lib/python3.10/dist-packages (from requests>=2.28->chromadb==0.4.22) (3.10)\n",
            "Requirement already satisfied: huggingface-hub<1.0,>=0.16.4 in /usr/local/lib/python3.10/dist-packages (from tokenizers>=0.13.2->chromadb==0.4.22) (0.26.2)\n",
            "Requirement already satisfied: click>=8.0.0 in /usr/local/lib/python3.10/dist-packages (from typer>=0.9.0->chromadb==0.4.22) (8.1.7)\n",
            "Requirement already satisfied: shellingham>=1.3.0 in /usr/local/lib/python3.10/dist-packages (from typer>=0.9.0->chromadb==0.4.22) (1.5.4)\n",
            "Requirement already satisfied: rich>=10.11.0 in /usr/local/lib/python3.10/dist-packages (from typer>=0.9.0->chromadb==0.4.22) (13.9.4)\n",
            "Requirement already satisfied: h11>=0.8 in /usr/local/lib/python3.10/dist-packages (from uvicorn>=0.18.3->uvicorn[standard]>=0.18.3->chromadb==0.4.22) (0.14.0)\n",
            "Collecting httptools>=0.6.3 (from uvicorn[standard]>=0.18.3->chromadb==0.4.22)\n",
            "  Downloading httptools-0.6.4-cp310-cp310-manylinux_2_5_x86_64.manylinux1_x86_64.manylinux_2_17_x86_64.manylinux2014_x86_64.whl.metadata (3.6 kB)\n",
            "Collecting python-dotenv>=0.13 (from uvicorn[standard]>=0.18.3->chromadb==0.4.22)\n",
            "  Downloading python_dotenv-1.0.1-py3-none-any.whl.metadata (23 kB)\n",
            "Collecting uvloop!=0.15.0,!=0.15.1,>=0.14.0 (from uvicorn[standard]>=0.18.3->chromadb==0.4.22)\n",
            "  Downloading uvloop-0.21.0-cp310-cp310-manylinux_2_17_x86_64.manylinux2014_x86_64.whl.metadata (4.9 kB)\n",
            "Collecting watchfiles>=0.13 (from uvicorn[standard]>=0.18.3->chromadb==0.4.22)\n",
            "  Downloading watchfiles-1.0.0-cp310-cp310-manylinux_2_17_x86_64.manylinux2014_x86_64.whl.metadata (4.9 kB)\n",
            "Collecting websockets>=10.4 (from uvicorn[standard]>=0.18.3->chromadb==0.4.22)\n",
            "  Downloading websockets-14.1-cp310-cp310-manylinux_2_5_x86_64.manylinux1_x86_64.manylinux_2_17_x86_64.manylinux2014_x86_64.whl.metadata (6.7 kB)\n",
            "Requirement already satisfied: cachetools<6.0,>=2.0.0 in /usr/local/lib/python3.10/dist-packages (from google-auth>=1.0.1->kubernetes>=28.1.0->chromadb==0.4.22) (5.5.0)\n",
            "Requirement already satisfied: pyasn1-modules>=0.2.1 in /usr/local/lib/python3.10/dist-packages (from google-auth>=1.0.1->kubernetes>=28.1.0->chromadb==0.4.22) (0.4.1)\n",
            "Requirement already satisfied: rsa<5,>=3.1.4 in /usr/local/lib/python3.10/dist-packages (from google-auth>=1.0.1->kubernetes>=28.1.0->chromadb==0.4.22) (4.9)\n",
            "Requirement already satisfied: filelock in /usr/local/lib/python3.10/dist-packages (from huggingface-hub<1.0,>=0.16.4->tokenizers>=0.13.2->chromadb==0.4.22) (3.16.1)\n",
            "Requirement already satisfied: fsspec>=2023.5.0 in /usr/local/lib/python3.10/dist-packages (from huggingface-hub<1.0,>=0.16.4->tokenizers>=0.13.2->chromadb==0.4.22) (2024.10.0)\n",
            "Requirement already satisfied: zipp>=3.20 in /usr/local/lib/python3.10/dist-packages (from importlib-metadata<=8.5.0,>=6.0->opentelemetry-api>=1.2.0->chromadb==0.4.22) (3.21.0)\n",
            "Requirement already satisfied: markdown-it-py>=2.2.0 in /usr/local/lib/python3.10/dist-packages (from rich>=10.11.0->typer>=0.9.0->chromadb==0.4.22) (3.0.0)\n",
            "Requirement already satisfied: pygments<3.0.0,>=2.13.0 in /usr/local/lib/python3.10/dist-packages (from rich>=10.11.0->typer>=0.9.0->chromadb==0.4.22) (2.18.0)\n",
            "Requirement already satisfied: anyio<5,>=3.4.0 in /usr/local/lib/python3.10/dist-packages (from starlette<0.42.0,>=0.40.0->fastapi>=0.95.2->chromadb==0.4.22) (3.7.1)\n",
            "Collecting humanfriendly>=9.1 (from coloredlogs->onnxruntime>=1.14.1->chromadb==0.4.22)\n",
            "  Downloading humanfriendly-10.0-py2.py3-none-any.whl.metadata (9.2 kB)\n",
            "Requirement already satisfied: mpmath<1.4,>=1.1.0 in /usr/local/lib/python3.10/dist-packages (from sympy->onnxruntime>=1.14.1->chromadb==0.4.22) (1.3.0)\n",
            "Requirement already satisfied: sniffio>=1.1 in /usr/local/lib/python3.10/dist-packages (from anyio<5,>=3.4.0->starlette<0.42.0,>=0.40.0->fastapi>=0.95.2->chromadb==0.4.22) (1.3.1)\n",
            "Requirement already satisfied: exceptiongroup in /usr/local/lib/python3.10/dist-packages (from anyio<5,>=3.4.0->starlette<0.42.0,>=0.40.0->fastapi>=0.95.2->chromadb==0.4.22) (1.2.2)\n",
            "Requirement already satisfied: mdurl~=0.1 in /usr/local/lib/python3.10/dist-packages (from markdown-it-py>=2.2.0->rich>=10.11.0->typer>=0.9.0->chromadb==0.4.22) (0.1.2)\n",
            "Requirement already satisfied: pyasn1<0.7.0,>=0.4.6 in /usr/local/lib/python3.10/dist-packages (from pyasn1-modules>=0.2.1->google-auth>=1.0.1->kubernetes>=28.1.0->chromadb==0.4.22) (0.6.1)\n",
            "Downloading chromadb-0.4.22-py3-none-any.whl (509 kB)\n",
            "\u001b[2K   \u001b[90m━━━━━━━━━━━━━━━━━━━━━━━━━━━━━━━━━━━━━━━━\u001b[0m \u001b[32m509.0/509.0 kB\u001b[0m \u001b[31m3.1 MB/s\u001b[0m eta \u001b[36m0:00:00\u001b[0m\n",
            "\u001b[?25hDownloading chroma_hnswlib-0.7.3-cp310-cp310-manylinux_2_17_x86_64.manylinux2014_x86_64.whl (2.4 MB)\n",
            "\u001b[2K   \u001b[90m━━━━━━━━━━━━━━━━━━━━━━━━━━━━━━━━━━━━━━━━\u001b[0m \u001b[32m2.4/2.4 MB\u001b[0m \u001b[31m7.1 MB/s\u001b[0m eta \u001b[36m0:00:00\u001b[0m\n",
            "\u001b[?25hDownloading bcrypt-4.2.1-cp39-abi3-manylinux_2_28_x86_64.whl (278 kB)\n",
            "\u001b[2K   \u001b[90m━━━━━━━━━━━━━━━━━━━━━━━━━━━━━━━━━━━━━━━━\u001b[0m \u001b[32m278.6/278.6 kB\u001b[0m \u001b[31m6.0 MB/s\u001b[0m eta \u001b[36m0:00:00\u001b[0m\n",
            "\u001b[?25hDownloading build-1.2.2.post1-py3-none-any.whl (22 kB)\n",
            "Downloading fastapi-0.115.5-py3-none-any.whl (94 kB)\n",
            "\u001b[2K   \u001b[90m━━━━━━━━━━━━━━━━━━━━━━━━━━━━━━━━━━━━━━━━\u001b[0m \u001b[32m94.9/94.9 kB\u001b[0m \u001b[31m5.4 MB/s\u001b[0m eta \u001b[36m0:00:00\u001b[0m\n",
            "\u001b[?25hDownloading kubernetes-31.0.0-py2.py3-none-any.whl (1.9 MB)\n",
            "\u001b[2K   \u001b[90m━━━━━━━━━━━━━━━━━━━━━━━━━━━━━━━━━━━━━━━━\u001b[0m \u001b[32m1.9/1.9 MB\u001b[0m \u001b[31m8.4 MB/s\u001b[0m eta \u001b[36m0:00:00\u001b[0m\n",
            "\u001b[?25hDownloading mmh3-5.0.1-cp310-cp310-manylinux_2_5_x86_64.manylinux1_x86_64.manylinux_2_17_x86_64.manylinux2014_x86_64.whl (93 kB)\n",
            "\u001b[2K   \u001b[90m━━━━━━━━━━━━━━━━━━━━━━━━━━━━━━━━━━━━━━━━\u001b[0m \u001b[32m93.2/93.2 kB\u001b[0m \u001b[31m6.2 MB/s\u001b[0m eta \u001b[36m0:00:00\u001b[0m\n",
            "\u001b[?25hDownloading onnxruntime-1.20.1-cp310-cp310-manylinux_2_27_x86_64.manylinux_2_28_x86_64.whl (13.3 MB)\n",
            "\u001b[2K   \u001b[90m━━━━━━━━━━━━━━━━━━━━━━━━━━━━━━━━━━━━━━━━\u001b[0m \u001b[32m13.3/13.3 MB\u001b[0m \u001b[31m12.1 MB/s\u001b[0m eta \u001b[36m0:00:00\u001b[0m\n",
            "\u001b[?25hDownloading opentelemetry_exporter_otlp_proto_grpc-1.28.2-py3-none-any.whl (18 kB)\n",
            "Downloading opentelemetry_exporter_otlp_proto_common-1.28.2-py3-none-any.whl (18 kB)\n",
            "Downloading opentelemetry_proto-1.28.2-py3-none-any.whl (55 kB)\n",
            "\u001b[2K   \u001b[90m━━━━━━━━━━━━━━━━━━━━━━━━━━━━━━━━━━━━━━━━\u001b[0m \u001b[32m55.8/55.8 kB\u001b[0m \u001b[31m3.5 MB/s\u001b[0m eta \u001b[36m0:00:00\u001b[0m\n",
            "\u001b[?25hDownloading opentelemetry_instrumentation_fastapi-0.49b2-py3-none-any.whl (12 kB)\n",
            "Downloading opentelemetry_instrumentation-0.49b2-py3-none-any.whl (30 kB)\n",
            "Downloading opentelemetry_instrumentation_asgi-0.49b2-py3-none-any.whl (16 kB)\n",
            "Downloading opentelemetry_util_http-0.49b2-py3-none-any.whl (6.9 kB)\n",
            "Downloading overrides-7.7.0-py3-none-any.whl (17 kB)\n",
            "Downloading posthog-3.7.2-py2.py3-none-any.whl (54 kB)\n",
            "\u001b[2K   \u001b[90m━━━━━━━━━━━━━━━━━━━━━━━━━━━━━━━━━━━━━━━━\u001b[0m \u001b[32m54.4/54.4 kB\u001b[0m \u001b[31m3.3 MB/s\u001b[0m eta \u001b[36m0:00:00\u001b[0m\n",
            "\u001b[?25hDownloading pulsar_client-3.5.0-cp310-cp310-manylinux_2_17_x86_64.manylinux2014_x86_64.whl (5.4 MB)\n",
            "\u001b[2K   \u001b[90m━━━━━━━━━━━━━━━━━━━━━━━━━━━━━━━━━━━━━━━━\u001b[0m \u001b[32m5.4/5.4 MB\u001b[0m \u001b[31m14.7 MB/s\u001b[0m eta \u001b[36m0:00:00\u001b[0m\n",
            "\u001b[?25hDownloading uvicorn-0.32.1-py3-none-any.whl (63 kB)\n",
            "\u001b[2K   \u001b[90m━━━━━━━━━━━━━━━━━━━━━━━━━━━━━━━━━━━━━━━━\u001b[0m \u001b[32m63.8/63.8 kB\u001b[0m \u001b[31m3.4 MB/s\u001b[0m eta \u001b[36m0:00:00\u001b[0m\n",
            "\u001b[?25hDownloading backoff-2.2.1-py3-none-any.whl (15 kB)\n",
            "Downloading durationpy-0.9-py3-none-any.whl (3.5 kB)\n",
            "Downloading httptools-0.6.4-cp310-cp310-manylinux_2_5_x86_64.manylinux1_x86_64.manylinux_2_17_x86_64.manylinux2014_x86_64.whl (442 kB)\n",
            "\u001b[2K   \u001b[90m━━━━━━━━━━━━━━━━━━━━━━━━━━━━━━━━━━━━━━━━\u001b[0m \u001b[32m442.1/442.1 kB\u001b[0m \u001b[31m10.3 MB/s\u001b[0m eta \u001b[36m0:00:00\u001b[0m\n",
            "\u001b[?25hDownloading monotonic-1.6-py2.py3-none-any.whl (8.2 kB)\n",
            "Downloading protobuf-5.28.3-cp38-abi3-manylinux2014_x86_64.whl (316 kB)\n",
            "\u001b[2K   \u001b[90m━━━━━━━━━━━━━━━━━━━━━━━━━━━━━━━━━━━━━━━━\u001b[0m \u001b[32m316.6/316.6 kB\u001b[0m \u001b[31m9.8 MB/s\u001b[0m eta \u001b[36m0:00:00\u001b[0m\n",
            "\u001b[?25hDownloading python_dotenv-1.0.1-py3-none-any.whl (19 kB)\n",
            "Downloading starlette-0.41.3-py3-none-any.whl (73 kB)\n",
            "\u001b[2K   \u001b[90m━━━━━━━━━━━━━━━━━━━━━━━━━━━━━━━━━━━━━━━━\u001b[0m \u001b[32m73.2/73.2 kB\u001b[0m \u001b[31m4.6 MB/s\u001b[0m eta \u001b[36m0:00:00\u001b[0m\n",
            "\u001b[?25hDownloading uvloop-0.21.0-cp310-cp310-manylinux_2_17_x86_64.manylinux2014_x86_64.whl (3.8 MB)\n",
            "\u001b[2K   \u001b[90m━━━━━━━━━━━━━━━━━━━━━━━━━━━━━━━━━━━━━━━━\u001b[0m \u001b[32m3.8/3.8 MB\u001b[0m \u001b[31m15.7 MB/s\u001b[0m eta \u001b[36m0:00:00\u001b[0m\n",
            "\u001b[?25hDownloading watchfiles-1.0.0-cp310-cp310-manylinux_2_17_x86_64.manylinux2014_x86_64.whl (442 kB)\n",
            "\u001b[2K   \u001b[90m━━━━━━━━━━━━━━━━━━━━━━━━━━━━━━━━━━━━━━━━\u001b[0m \u001b[32m442.6/442.6 kB\u001b[0m \u001b[31m11.1 MB/s\u001b[0m eta \u001b[36m0:00:00\u001b[0m\n",
            "\u001b[?25hDownloading websockets-14.1-cp310-cp310-manylinux_2_5_x86_64.manylinux1_x86_64.manylinux_2_17_x86_64.manylinux2014_x86_64.whl (168 kB)\n",
            "\u001b[2K   \u001b[90m━━━━━━━━━━━━━━━━━━━━━━━━━━━━━━━━━━━━━━━━\u001b[0m \u001b[32m168.2/168.2 kB\u001b[0m \u001b[31m9.4 MB/s\u001b[0m eta \u001b[36m0:00:00\u001b[0m\n",
            "\u001b[?25hDownloading coloredlogs-15.0.1-py2.py3-none-any.whl (46 kB)\n",
            "\u001b[2K   \u001b[90m━━━━━━━━━━━━━━━━━━━━━━━━━━━━━━━━━━━━━━━━\u001b[0m \u001b[32m46.0/46.0 kB\u001b[0m \u001b[31m2.8 MB/s\u001b[0m eta \u001b[36m0:00:00\u001b[0m\n",
            "\u001b[?25hDownloading pyproject_hooks-1.2.0-py3-none-any.whl (10 kB)\n",
            "Downloading asgiref-3.8.1-py3-none-any.whl (23 kB)\n",
            "Downloading humanfriendly-10.0-py2.py3-none-any.whl (86 kB)\n",
            "\u001b[2K   \u001b[90m━━━━━━━━━━━━━━━━━━━━━━━━━━━━━━━━━━━━━━━━\u001b[0m \u001b[32m86.8/86.8 kB\u001b[0m \u001b[31m6.0 MB/s\u001b[0m eta \u001b[36m0:00:00\u001b[0m\n",
            "\u001b[?25hBuilding wheels for collected packages: pypika\n",
            "  Building wheel for pypika (pyproject.toml) ... \u001b[?25l\u001b[?25hdone\n",
            "  Created wheel for pypika: filename=PyPika-0.48.9-py2.py3-none-any.whl size=53725 sha256=eb14b9126ab473fc998b39e614e34407a63b7a230615e23fba20cc49bba93bea\n",
            "  Stored in directory: /root/.cache/pip/wheels/e1/26/51/d0bffb3d2fd82256676d7ad3003faea3bd6dddc9577af665f4\n",
            "Successfully built pypika\n",
            "Installing collected packages: pypika, monotonic, durationpy, websockets, uvloop, uvicorn, python-dotenv, pyproject_hooks, pulsar-client, protobuf, overrides, opentelemetry-util-http, mmh3, humanfriendly, httptools, chroma-hnswlib, bcrypt, backoff, asgiref, watchfiles, starlette, posthog, opentelemetry-proto, coloredlogs, build, opentelemetry-exporter-otlp-proto-common, onnxruntime, kubernetes, fastapi, opentelemetry-instrumentation, opentelemetry-instrumentation-asgi, opentelemetry-exporter-otlp-proto-grpc, opentelemetry-instrumentation-fastapi, chromadb\n",
            "  Attempting uninstall: protobuf\n",
            "    Found existing installation: protobuf 4.25.5\n",
            "    Uninstalling protobuf-4.25.5:\n",
            "      Successfully uninstalled protobuf-4.25.5\n",
            "\u001b[31mERROR: pip's dependency resolver does not currently take into account all the packages that are installed. This behaviour is the source of the following dependency conflicts.\n",
            "tensorflow 2.17.1 requires protobuf!=4.21.0,!=4.21.1,!=4.21.2,!=4.21.3,!=4.21.4,!=4.21.5,<5.0.0dev,>=3.20.3, but you have protobuf 5.28.3 which is incompatible.\n",
            "tensorflow-metadata 1.13.1 requires protobuf<5,>=3.20.3, but you have protobuf 5.28.3 which is incompatible.\u001b[0m\u001b[31m\n",
            "\u001b[0mSuccessfully installed asgiref-3.8.1 backoff-2.2.1 bcrypt-4.2.1 build-1.2.2.post1 chroma-hnswlib-0.7.3 chromadb-0.4.22 coloredlogs-15.0.1 durationpy-0.9 fastapi-0.115.5 httptools-0.6.4 humanfriendly-10.0 kubernetes-31.0.0 mmh3-5.0.1 monotonic-1.6 onnxruntime-1.20.1 opentelemetry-exporter-otlp-proto-common-1.28.2 opentelemetry-exporter-otlp-proto-grpc-1.28.2 opentelemetry-instrumentation-0.49b2 opentelemetry-instrumentation-asgi-0.49b2 opentelemetry-instrumentation-fastapi-0.49b2 opentelemetry-proto-1.28.2 opentelemetry-util-http-0.49b2 overrides-7.7.0 posthog-3.7.2 protobuf-5.28.3 pulsar-client-3.5.0 pypika-0.48.9 pyproject_hooks-1.2.0 python-dotenv-1.0.1 starlette-0.41.3 uvicorn-0.32.1 uvloop-0.21.0 watchfiles-1.0.0 websockets-14.1\n"
          ]
        }
      ]
    },
    {
      "cell_type": "markdown",
      "metadata": {
        "id": "rYPiLaGjMn30"
      },
      "source": [
        "# Loading PDF file"
      ]
    },
    {
      "cell_type": "markdown",
      "source": [
        "Set the API key as environment variable in your environment:"
      ],
      "metadata": {
        "id": "BM9G4ltwOqKA"
      }
    },
    {
      "cell_type": "code",
      "source": [
        "# Used to securely store your API key\n",
        "from google.colab import userdata\n",
        "\n",
        "# Or use `os.getenv('GOOGLE_API_KEY')` to fetch an environment variable.\n",
        "GOOGLE_API_KEY=userdata.get('GOOGLE_API_KEY')\n",
        "#genai.configure(api_key=GOOGLE_API_KEY)\n",
        "\n",
        "# Key is retrieve in later cell"
      ],
      "metadata": {
        "id": "2LRCMFLLNdpl"
      },
      "execution_count": 4,
      "outputs": []
    },
    {
      "cell_type": "code",
      "execution_count": null,
      "metadata": {
        "id": "aKpqc_Y1Mn33"
      },
      "outputs": [],
      "source": [
        "#import os\n",
        "#os.environ[\"GEMINI_API_KEY\"]=<insert-key-here>"
      ]
    },
    {
      "cell_type": "markdown",
      "source": [
        "## Indexing:\n",
        "The indexing component can be broken down into 4 major steps.\n",
        "\n",
        "* **Loading data:** The initial step is to load the data from the documents. Your text data can be in multiple kinds of files ranging from simple files like .txt, .docx, to complex ones like pdf etc. In this article, we will build a data loader for pdf files."
      ],
      "metadata": {
        "id": "aMMPS2gtOshK"
      }
    },
    {
      "cell_type": "markdown",
      "source": [
        "Instruction:\n",
        "1. Connect Colab\n",
        "2. Create a 'RAG' folder\n",
        "3. Copy 'state_of_the_union.pdf' to the 'RAG' folder"
      ],
      "metadata": {
        "id": "jEJZ65V9RS4S"
      }
    },
    {
      "cell_type": "code",
      "execution_count": 5,
      "metadata": {
        "colab": {
          "base_uri": "https://localhost:8080/"
        },
        "id": "BUWo13N4Mn34",
        "outputId": "126b24d3-c726-4974-8799-4792111eb8d1"
      },
      "outputs": [
        {
          "output_type": "stream",
          "name": "stderr",
          "text": [
            "/usr/local/lib/python3.10/dist-packages/pypdf/_crypt_providers/_cryptography.py:32: CryptographyDeprecationWarning: ARC4 has been moved to cryptography.hazmat.decrepit.ciphers.algorithms.ARC4 and will be removed from this module in 48.0.0.\n",
            "  from cryptography.hazmat.primitives.ciphers.algorithms import AES, ARC4\n"
          ]
        }
      ],
      "source": [
        "from pypdf import PdfReader\n",
        "\n",
        "def load_pdf(file_path):\n",
        "    \"\"\"\n",
        "    Reads the text content from a PDF file and returns it as a single string.\n",
        "\n",
        "    Parameters:\n",
        "    - file_path (str): The file path to the PDF file.\n",
        "\n",
        "    Returns:\n",
        "    - str: The concatenated text content of all pages in the PDF.\n",
        "\n",
        "    Raises:\n",
        "    - FileNotFoundError: If the specified file_path does not exist.\n",
        "    - PyPDF2.utils.PdfReadError: If the PDF file is encrypted or malformed.\n",
        "\n",
        "    Example:\n",
        "    >>> pdf_text = load_pdf(\"example.pdf\")\n",
        "    >>> print(pdf_text)\n",
        "    \"This is the text content extracted from the PDF file.\"\n",
        "    \"\"\"\n",
        "    # Logic to read pdf\n",
        "    reader = PdfReader(file_path)\n",
        "\n",
        "    # Loop over each page and store it in a variable\n",
        "    text = \"\"\n",
        "    for page in reader.pages:\n",
        "        text += page.extract_text()\n",
        "\n",
        "    return text\n",
        "\n",
        "text = load_pdf(file_path=\"/content/RAG/state_of_the_union.pdf\")"
      ]
    },
    {
      "cell_type": "code",
      "execution_count": 6,
      "metadata": {
        "id": "8mpLeTv5Mn35"
      },
      "outputs": [],
      "source": [
        "pdf_text = load_pdf(file_path=\"/content/RAG/state_of_the_union.pdf\")"
      ]
    },
    {
      "cell_type": "code",
      "source": [
        "pdf_text"
      ],
      "metadata": {
        "colab": {
          "base_uri": "https://localhost:8080/",
          "height": 122
        },
        "id": "uPIP1TCtSrgB",
        "outputId": "62607ef9-10cb-4cc6-fa59-aa9d96299cea"
      },
      "execution_count": 7,
      "outputs": [
        {
          "output_type": "execute_result",
          "data": {
            "text/plain": [
              "'Madam Speaker, Madam Vice President, our First Lady and Second Gentleman. Members of Congress \\nand the Cabinet. Justices of the Supreme Court. My fellow Americans.  \\nLast year COVID -19 kept us apart. This year we are finally together again. Tonight, we meet as \\nDemocrats, Republicans, and Independents. But most importantly as Americans. With a duty to one \\nanother, to the American people, to the Constitution. And with an  unwavering resolve that freedom will \\nalways triumph over tyranny.  \\n \\nSix days ago, Russia’s Vladimir Putin sought to shake the foundations of the free world, thinking he could \\nmake it bend to his menacing ways. But he badly miscalculated. He thought he could roll into Ukraine \\nand the world would roll over. Instead, he met a  wall of strength he never imagined. He met the \\nUkrainian people. From President Zelenskyy to every Ukrainian, their fearlessness, their courage, their \\ndetermination, inspires the world.  \\n \\nGroups of citizens blocking tanks with their bodies. Everyone from students to retirees, teachers turned \\nsoldiers defending their homeland. In this struggle, as President Zelenskyy said in his speech to the \\nEuropean Parliament, “Light will win over darknes s.” The Ukrainian Ambassador to the United States is \\nhere tonight. Let each of us here tonight in this Chamber send an unmistakable signal to Ukraine and to \\nthe world.  \\n \\nPlease rise if you are able and show that, Yes, we the United States of America stand with the Ukrainian \\npeople. Throughout our history, we’ve learned this lesson: when dictators do not pay a price for their \\naggression, they cause more chaos. They keep mov ing. And the costs and the threats to America and the \\nworld keep rising.  \\n \\nThat’s why the NATO Alliance was created to secure peace and stability in Europe after World War 2. The \\nUnited States is a member, along with 29 other nations. It matters. American diplomacy matters. \\nAmerican resolve matters. Putin’s latest attack on Ukrai ne was premeditated and unprovoked. He \\nrejected repeated efforts at diplomacy. He thought the West and NATO wouldn’t respond. And he \\nthought he could divide us at home. Putin was wrong. We were ready. Here is what we did.  \\n \\nWe prepared extensively and carefully. We spent months building a coalition of other freedom -loving \\nnations from Europe and the Americas to Asia and Africa to confront Putin. I spent countless hours \\nunifying our European allies. We shared with the world in  advance what we knew Putin was planning \\nand precisely how he would try to falsely justify his aggression. We countered Russia’s lies with truth. \\nAnd now that he has acted, the free world is holding him accountable.  \\n Along with twenty -seven members of the European Union, including France, Germany, Italy, as well as \\ncountries like the United Kingdom, Canada, Japan, Korea, Australia, New Zealand, and many others, even \\nSwitzerland. We are inflicting pain on Russia and sup porting the people of Ukraine. Putin is now isolated \\nfrom the world more than ever.  \\n \\nTogether with our allies, we are right now enforcing powerful economic sanctions. We are cutting off \\nRussia’s largest banks from the international financial system. Preventing Russia’s central bank from \\ndefending the Russian Ruble, making Putin’s $630 Bill ion “war fund” worthless. We are choking off \\nRussia’s access to technology that will sap its economic strength and weaken its military for years to \\ncome.  \\n \\nTonight I say to the Russian oligarchs and corrupt leaders who have bilked billions of dollars off this \\nviolent regime: no more. The U.S. Department of Justice is assembling a dedicated task force to go after \\nthe crimes of Russian oligarchs. We are joining  with our European allies to find and seize your yachts, \\nyour luxury apartments, your private jets. We are coming for your ill -begotten gains.  \\n \\nAnd tonight I am announcing that we will join our allies in closing off American airspace to all Russian \\nflights – further isolating Russia – and adding an additional squeeze on their economy. The Ruble has lost \\n30% of its value. The Russian stock market h as lost 40% of its value and trading remains suspended. \\nRussia’s economy is reeling and Putin alone is to blame.  \\n \\nTogether with our allies, we are providing support to the Ukrainians in their fight for freedom. Military \\nassistance. Economic assistance. Humanitarian assistance. We are giving more than $1 Billion in direct \\nassistance to Ukraine. And we will continue to aid the Ukrainian people as they defend their country and \\nto help ease their suffering.  \\n \\nLet me be clear, our forces are not engaged and will not engage in conflict with Russian forces in Ukraine. \\nOur forces are not going to Europe to fight in Ukraine, but to defend our NATO Allies – in the event that \\nPutin decides to keep moving west. For tha t purpose, we’ve mobilized American ground forces, air \\nsquadrons, and ship deployments to protect NATO countries including Poland, Romania, Latvia, \\nLithuania, and Estonia.  \\n \\nAs I have made crystal clear, the United States and our Allies will defend every inch of territory of NATO \\ncountries with the full force of our collective power. And we remain clear -eyed. The Ukrainians are \\nfighting back with pure courage. But the next few  days, weeks, months, will be hard on them. Putin has \\nunleashed violence and chaos. But while he may make gains on the battlefield – he will pay a continuing \\nhigh price over the long run. And a proud Ukrainian people, who have known 30 years of independenc e, \\nhave repeatedly shown that they will not tolerate anyone who tries to take their country backward.   \\nTo all Americans, I will be honest with you, as I’ve always promised. A Russian dictator, invading a foreign \\ncountry, has costs around the world. And I’m taking robust action to make sure the pain of our sanctions \\nis targeted at Russia’s economy. And I wil l use every tool at our disposal to protect American businesses \\nand consumers.  \\n \\nTonight, I can announce that the United States has worked with 30 other countries to release 60 Million \\nbarrels of oil from reserves around the world. America will lead that effort, releasing 30 Million barrels \\nfrom our own Strategic Petroleum Reserve. And  we stand ready to do more if necessary, unified with our \\nallies. These steps will help blunt gas prices here at home. And I know the news about what’s happening \\ncan seem alarming. But I want you to know that we are going to be okay.  \\n \\nWhen the history of this era is written Putin’s war on Ukraine will have left Russia weaker and the rest of \\nthe world stronger. While it shouldn’t have taken something so terrible for people around the world to \\nsee what’s at stake now everyone sees it clea rly. We see the unity among leaders of nations and a more \\nunified Europe a more unified West. And we see unity among the people who are gathering in cities in \\nlarge crowds around the world even in Russia to demonstrate their support for Ukraine.  \\n \\nIn the battle between democracy and autocracy, democracies are rising to the moment, and the world is \\nclearly choosing the side of peace and security. This is a real test. It’s going to take time. So let us \\ncontinue to draw inspiration from the iron will o f the Ukrainian people. To our fellow Ukrainian \\nAmericans who forge a deep bond that connects our two nations, we stand with you. Putin may circle \\nKyiv with tanks, but he will never gain the hearts and souls of the Ukrainian people. He will never \\nextinguis h their love of freedom. He will never weaken the resolve of the free world.  \\n \\nWe meet tonight in an America that has lived through two of the hardest years this nation has ever \\nfaced. The pandemic has been punishing.  '"
            ],
            "application/vnd.google.colaboratory.intrinsic+json": {
              "type": "string"
            }
          },
          "metadata": {},
          "execution_count": 7
        }
      ]
    },
    {
      "cell_type": "markdown",
      "metadata": {
        "id": "pJfKNnU5Mn35"
      },
      "source": [
        "# Splitting the text"
      ]
    },
    {
      "cell_type": "markdown",
      "source": [
        "* **Splitting data:** Language models are limited with the length of data that they can process, known as context length. But the text that you want to perform RAG on can be huge. Also searching on big chunks of data can be hard. Thus, we split the text into multiple small pieces called chunks to make both retrieval and generation faster and easier.\n",
        "\n",
        "For the sake of simplicity, we split the document at every new paragraph. So, each paragraph becomes a chunk"
      ],
      "metadata": {
        "id": "fZwReNX3O0tO"
      }
    },
    {
      "cell_type": "code",
      "execution_count": 8,
      "metadata": {
        "id": "Iby46P9aMn35"
      },
      "outputs": [],
      "source": [
        "import re\n",
        "def split_text(text: str):\n",
        "    \"\"\"\n",
        "    Splits a text string into a list of non-empty substrings based on the specified pattern.\n",
        "    The \"\\n \\n\" pattern will split the document para by para\n",
        "    Parameters:\n",
        "    - text (str): The input text to be split.\n",
        "\n",
        "    Returns:\n",
        "    - List[str]: A list containing non-empty substrings obtained by splitting the input text.\n",
        "\n",
        "    \"\"\"\n",
        "    split_text = re.split('\\n \\n', text)\n",
        "    return [i for i in split_text if i != \"\"]"
      ]
    },
    {
      "cell_type": "code",
      "execution_count": 9,
      "metadata": {
        "id": "1lNOKRoHMn36"
      },
      "outputs": [],
      "source": [
        "text = split_text(pdf_text)"
      ]
    },
    {
      "cell_type": "markdown",
      "metadata": {
        "id": "BQJYg6dnMn36"
      },
      "source": [
        "# Embedding the text"
      ]
    },
    {
      "cell_type": "markdown",
      "source": [
        "* **Embed data:** The next step is to embed the text data. Embeddings are vector representations of text. Converting the text to some sort of vectors enables us to apply mathematical operations on them. Here is a beginner friendly crash course to understand [embeddings](https://calmcode.io/course/embeddings/introduction)\n",
        "\n",
        "To create embeddings for the text, we create an embedding class that would perform API calls to the gemini embedding model. This class will be used with the chromadb client while indexing, querying."
      ],
      "metadata": {
        "id": "n-mxxvzDO8nd"
      }
    },
    {
      "cell_type": "code",
      "execution_count": 10,
      "metadata": {
        "id": "BwYOewXUMn36"
      },
      "outputs": [],
      "source": [
        "import google.generativeai as genai\n",
        "from chromadb import Documents, EmbeddingFunction, Embeddings\n",
        "import os\n",
        "\n",
        "class GeminiEmbeddingFunction(EmbeddingFunction):\n",
        "    \"\"\"\n",
        "    Custom embedding function using the Gemini AI API for document retrieval.\n",
        "\n",
        "    This class extends the EmbeddingFunction class and implements the __call__ method\n",
        "    to generate embeddings for a given set of documents using the Gemini AI API.\n",
        "\n",
        "    Parameters:\n",
        "    - input (Documents): A collection of documents to be embedded.\n",
        "\n",
        "    Returns:\n",
        "    - Embeddings: Embeddings generated for the input documents.\n",
        "\n",
        "    Raises:\n",
        "    - ValueError: If the Gemini API Key is not provided as an environment variable (GEMINI_API_KEY).\n",
        "\n",
        "    Example:\n",
        "    >>> gemini_embedding_function = GeminiEmbeddingFunction()\n",
        "    >>> input_documents = Documents([\"Document 1\", \"Document 2\", \"Document 3\"])\n",
        "    >>> embeddings_result = gemini_embedding_function(input_documents)\n",
        "    >>> print(embeddings_result)\n",
        "    Embeddings for the input documents generated by the Gemini AI API.\n",
        "    \"\"\"\n",
        "    def __call__(self, input: Documents) -> Embeddings:\n",
        "        #gemini_api_key = os.getenv(\"GEMINI_API_KEY\")\n",
        "        gemini_api_key = GOOGLE_API_KEY\n",
        "        if not gemini_api_key:\n",
        "            raise ValueError(\"Gemini API Key not provided. Please provide GEMINI_API_KEY as an environment variable\")\n",
        "        genai.configure(api_key=gemini_api_key)\n",
        "        model = \"models/embedding-001\"\n",
        "        title = \"Custom query\"\n",
        "        return genai.embed_content(model=model,\n",
        "                                   content=input,\n",
        "                                   task_type=\"retrieval_document\",\n",
        "                                   title=title)[\"embedding\"]\n"
      ]
    },
    {
      "cell_type": "markdown",
      "metadata": {
        "id": "AYX3mzwDMn36"
      },
      "source": [
        "# Storing vectors into DB"
      ]
    },
    {
      "cell_type": "markdown",
      "source": [
        "* **Storing the data:** The embeddings are then stored in a database and are internally indexed. We don’t need to dive deep in the indexing process as vector databases are optimized to do it. Refer [this](https://www.datastax.com/guides/what-is-a-vector-index) article for some good understanding of vector indexes\n",
        "\n",
        "The code shown below creates a persistent Vector DB and stores the files at the provided location."
      ],
      "metadata": {
        "id": "2ToUWyEuPHXK"
      }
    },
    {
      "cell_type": "markdown",
      "source": [
        "Instruction\n",
        "1. Create 'contents' folder in 'RAG' folder"
      ],
      "metadata": {
        "id": "-TmZct9pTB-t"
      }
    },
    {
      "cell_type": "code",
      "execution_count": 11,
      "metadata": {
        "id": "bFJrSu4LMn36"
      },
      "outputs": [],
      "source": [
        "import chromadb\n",
        "def create_chroma_db(documents, path, name):\n",
        "    \"\"\"\n",
        "    Creates a Chroma database using the provided documents, path, and collection name.\n",
        "\n",
        "    Parameters:\n",
        "    - documents: An iterable of documents to be added to the Chroma database.\n",
        "    - path (str): The path where the Chroma database will be stored.\n",
        "    - name (str): The name of the collection within the Chroma database.\n",
        "\n",
        "    Returns:\n",
        "    - Tuple[chromadb.Collection, str]: A tuple containing the created Chroma Collection and its name.\n",
        "    \"\"\"\n",
        "    chroma_client = chromadb.PersistentClient(path=path)\n",
        "    db = chroma_client.create_collection(name=name, embedding_function=GeminiEmbeddingFunction())\n",
        "\n",
        "    for i, d in enumerate(documents):\n",
        "        db.add(documents=d, ids=str(i))\n",
        "\n",
        "    return db, name\n"
      ]
    },
    {
      "cell_type": "markdown",
      "source": [
        "**Note:** if there is an error of 'rag_experiment' duplicate key, 'Disconnect and delete runtime' and rerun this notebook again."
      ],
      "metadata": {
        "id": "rLvkaZv_ZQPj"
      }
    },
    {
      "cell_type": "code",
      "execution_count": 12,
      "metadata": {
        "id": "4S3uQJAlMn37"
      },
      "outputs": [],
      "source": [
        "# run this cell once only, if not error of 'rag_experiment' duplicate key will happen\n",
        "db,name =create_chroma_db(documents=text, path=\"/content/RAG/contents\", name=\"rag_experiment\")"
      ]
    },
    {
      "cell_type": "markdown",
      "source": [
        "Once indexed, we can use the collection name and the persistent path to access the collection every time we need to query. Here is the code to load the ChromaDB collection"
      ],
      "metadata": {
        "id": "8_Xh3nw_PQ9s"
      }
    },
    {
      "cell_type": "code",
      "execution_count": 13,
      "metadata": {
        "id": "UojGonEWMn37"
      },
      "outputs": [],
      "source": [
        "def load_chroma_collection(path, name):\n",
        "    \"\"\"\n",
        "    Loads an existing Chroma collection from the specified path with the given name.\n",
        "\n",
        "    Parameters:\n",
        "    - path (str): The path where the Chroma database is stored.\n",
        "    - name (str): The name of the collection within the Chroma database.\n",
        "\n",
        "    Returns:\n",
        "    - chromadb.Collection: The loaded Chroma Collection.\n",
        "    \"\"\"\n",
        "    chroma_client = chromadb.PersistentClient(path=path)\n",
        "    db = chroma_client.get_collection(name=name, embedding_function=GeminiEmbeddingFunction())\n",
        "\n",
        "    return db\n"
      ]
    },
    {
      "cell_type": "code",
      "execution_count": 15,
      "metadata": {
        "id": "O0sblLuSMn37"
      },
      "outputs": [],
      "source": [
        "db=path=load_chroma_collection(\"/content/RAG/contents\", name=\"rag_experiment\")"
      ]
    },
    {
      "cell_type": "markdown",
      "source": [
        "So far we have indexed our documents and have prepared them for retrieval. We will now look into how retrieval works."
      ],
      "metadata": {
        "id": "GTy4WtKwPTpo"
      }
    },
    {
      "cell_type": "markdown",
      "metadata": {
        "id": "o3SSbaStMn37"
      },
      "source": [
        "# Retrieval\n",
        "\n",
        "Once a query is received, we create a text embedding for the user query with the same embedding model that we used to index the document. We then perform a semantic search to retrieve the most similar chunks of text. The output of this process are the text chunks ranked on the similarity score.\n",
        "\n",
        "Here is a flow chart that depicts the retrieval process"
      ]
    },
    {
      "cell_type": "markdown",
      "source": [
        "![1_5mVEo0ln_QRmxjtKUtCu5g.webp](data:image/webp;base64,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)"
      ],
      "metadata": {
        "id": "uP1i8SsvPdR4"
      }
    },
    {
      "cell_type": "markdown",
      "source": [
        "Fig. Retrieval process in a RAG system"
      ],
      "metadata": {
        "id": "LnyBV8ivPcO_"
      }
    },
    {
      "cell_type": "code",
      "execution_count": 16,
      "metadata": {
        "id": "q4Rt0wvLMn37"
      },
      "outputs": [],
      "source": [
        "def get_relevant_passage(query, db, n_results):\n",
        "  passage = db.query(query_texts=[query], n_results=n_results)['documents'][0]\n",
        "  return passage"
      ]
    },
    {
      "cell_type": "code",
      "execution_count": 17,
      "metadata": {
        "id": "GtmDQQWuMn38"
      },
      "outputs": [],
      "source": [
        "relevant_text = get_relevant_passage(\"Sanctions on Russia\",db,3)"
      ]
    },
    {
      "cell_type": "markdown",
      "metadata": {
        "id": "mqqOYSqXMn38"
      },
      "source": [
        "# Generation"
      ]
    },
    {
      "cell_type": "markdown",
      "source": [
        "In a RAG system, generation step is the process of generating an answer for a user query using the relevant data provided by the retrieval step. The Language models use their intelligence/knowledge + knowledge enrichment provided by additional external data to generate an easy to understand answer for the user query."
      ],
      "metadata": {
        "id": "HfPwm_z2Pngu"
      }
    },
    {
      "cell_type": "markdown",
      "source": [
        "![RAG.png](data:image/png;base64,UklGRnQfAABXRUJQVlA4WAoAAAAYAAAAzwIAUgEAQUxQSJ8cAAABHAZtG0mK+cPe/45ARExA2W8TtdrsvcMVSmuZZtxZdkoFJz803/KHbduyp9H2bcd53tdNcLfUoIrNg9YdqLu7T5WWKVb3FupQ99KpwTODu1uNwQu0aAV3K05Csv9xXfcdSELkeoSImABs/P8Zkl3vW1U7B0nOybVt27Zt27Zt27Zv8LcZ27adG57prvr9Pg92Gjt7NpOtRxExARz0/0Grh4ospKiZIYUaLAT1T9VXlPSInxx1EbQn/tvLryspVl1R2vQNeu91PylWXFH6FFDaXEopuW2BPa6vejtK+0Bb3DHw5Q3w6Gor6rqXkAtudJrjDby50orSebRgRl9zMjxDocaS9qTFjaFGhtsr1ldR7yXjxjCj5UzV10ETKBgjmpF5vVJ99QNajFGNQiuFuipITvGRMM+8UKmuSnow5sboLbsr1FVRP6ZhfCsghaoqaH+yj4fBjRSrKumslfHMveqqIBmFlXmeUmXFir2orpJ0PtlX5gGKVVXQwSvk3KSyivojLeNbgYlCVZX0ZIrbaJ75H1XWQRGKj2W0vFGprpK0Ky02khfYqlBZRd0QitsYZjR8SlH19ddocRuDlm1SqK6CdBoNboOMAo9UUn0ddU1ocOtnRoF3aPVaoVllKOpu0DpmPQxv4VuqtYNueC40jmNg7njO8AYprBqXWa16YXjN692m0lCQ/gQ0uRQzK7k1OPd+UtAqdVytvSoMW6g1lKQ7/CszneXnvFRXDUu1oSDppm/d40qActKXHywprn1BG6k3pKiZ177hRMuTrgLWHlJM6kxRVwlrjxBTSpOlDRuWJimlFEPVFVPUmDGFKiukqOWTOzz5XT/Y5T/22/////EPX3rNI26hmSnWVilI0s1f+dfTGDw97FsP3SBJKdRTIUnSo//Ystza/sw87E03kqRUR4Uk6aG7NABtm4vjzmx395LbDHDUp7ZISvVTSJJeezJQ2uKOM9gcL7kF+MeHS0qVU5L0ZQdvirsbYxvuuQXOf7mkWDFFSe8u0GbHjRU1c/fG4cTHS7FaitJzL4e24GasvDmeDfa/rhSrpCDt+O+QC27MqRmeHV4jhQopSK8Bz2DMsRnewr8mhfpI+i60jhnzbU5xLthZsT76AGTMmHszvOF0KdRFUTeDgrEqzWn5an30E6bYKsEoIIWqCLZqb64KbE7uXl2IjxMZNaScnIIjZenZeJGjsZSjApybpQ/jRzkFSln6InbW86D/DsIqNzde1lBZu7MK8nZ9Gjc6UQV+WLzIqP7iIwW7c9fzsDhRETsu4Qu8ix0Vpf83HG9R5i3/eO+c8xZXKoCOlD6O5GiYfRcOHCfmXobLFwYnvrNk1Zh2FA1jB56L1RUPAbfqQ3x+MCovlLZvlXR5POlsPRJ1pV4O+SDwFuGDwFvIAiwILMJgl3oBPCg1wOECC/kgwvkg8BGBwweOIIiwwMVmWuvxqKv1Sii1I9LIq/GVviTyAc0gz45I4wAadwjgwr7DnqsCBnf0+uGRcuC4cCZV+gysiIGBBAE42KK6cOm02pjx+GjD4NA3JvY+CwxG3c8D/7mFAT0BR/15l+PiOJ5BCgMV1in8AAle0BOSHsWD4780HQNwDNYV8E/dQgAzVAfoIO2VNiQAzR0siVw1wXne1D34OA719AWUeyEBa3Q+JBfpKGgv9SezAkDArfoCF/WGOsNruhwPg1UF2mgqcLkmAdnS32jItXqHBGwTWCznHHUispluBzhUXUNjSRlwnV7Hhzxd9Cq8GTVC1WCOCM8QIJ1MWHuAc9WNBLGZx6KuCSG95SDBS+r/Vf9+vQZobOhMks6ibtJnuKhH9WDoiqjqoOyPBvYZ+PEKHQ3aAuY8A9UYxqo+Li7TVk9FXa7XSFB3jjT1KOillM+GLsMT6blY44l0fKkroEfUSFWnplJuqAjaDeA5W9+DNlNoxxDO0hckQ/frCbxBjZ5SQ75SE1K316WpHIdKYGCwR5Whqy7FewaqOlU0nzSjgFWitV7Bx2SM8soC72C+WuDBwQV6h9v1GAnvgATtdXEqYJ5uAOfgbk0nwT/UjgyYrGqwRxD4PHie0N8+URUsJgOMUk+Ax7UEaFATOFdPUUGqDnBpNXgoLcepUmuAmyQoz9maAnwj1YLX9SlA5gWhHRGOwzVdUyi84wcGv0s/jpR2ViRJP01/Z5zk4SZp9AcjpEbQRVekATwsafQoSWoJ8KeyRkijQyzX5r7vLdGskCKAOdL1+NgMBs+vkJa0B4OKn2+TPquIwfF9JY1rgecWXYZLhyN7bZTm3nKVNPFUSPaVJnC9auGh/Vpp+fMAf22K8pwiJbD4DI6UjjSN/WqkzBgvncZ+97TSvzFiNJgPJQibB7wBeA84vy9wDjDvoOnohngHzkVZEPKWFkzQMfhYTQF25EdHY22nMI+XgPP5odmP9XCxqaJgHMeSFjMr7P+/eCHF5SlWYzVp0SDoeve9y13vete73PumlZhkdEqhApvoZWzLy6/kJZpUYNLFZF+eOVfVZ1FgopeSMcDIvFBL1Zd0EdlZ7pkzVHseqCaxK23Ui8nYDHPnvtoYu2JSqKCCZk6ipCRJF1CcWWT2kaQYpJi0jmrFuSD9fNsHbipJE0mP/B04NgsD8o/vJGlJkm71oUu/KYX1kKLkgSdI3wU46WM3lfTi8wHD6OPAiS+WdKtPnAzwdSmsg9QvvgXpW3ieAhz7hZPAmoL1wLDSAKd+7ViAJjtflcJ6h6GjsWKa9G3ccc8NQMnuGP3N3bMBNNkdd74uhXWPrMzi27dxxzDc8zS7uzHcDM9tdnfDcOerWu80sotrUd/EHWO54Y4xsuGOARju/FihWtqPFmO+jZYDqqWkp1J83vCWJyhVSkEBis+ZFZBCpaSgf6WdNxp2V1CtlPRMitt8eeGpStVSUITCXFsBKVRLknYh+zDDZ2PDaPmrguqlid5OO8QML01e3hTchnjLKzWpmKSjyfQ3IxvdOWM2IHOI1kGzMikyHmiino679TLc4IpfPfP+t7vfS370NzDHeuHwaKX1BZdMBOknkuTUp0wiSDuRdMUj6UAyvY0Mx99V3c88FzLWx8gcq/XP1RQdDzBRNwa3PkaGN0tKKcaYkqS3QcZ6YA63V1zjzFkJgqPLrOFj8tpbE4aMG5P+8Fl34IpBG/V5GvoaGR4hLal7It0fCtYDb/iaNq1xJYvGBS907JzHLrfqxfu7dE6/44unYcWeJUkXULyXw4OU1D/qSeC9KFwiKYTtWVqxmo2sBGEfb6ToeOAIS5KefCyY9TAyb1fS0KD3k7EehnHFa4MU4vZLSithJKX+WAmCC3weE0ly6pP0eQxccUfS27cx1DOXacQgnU2hr2HAV7ZqOx117/YhktJ4nrskgYUMMEtlFrIoizCLMLMoA7Pixj7NyqTIeODY8t4plAzWh5aXazJMEz2GbL2M0gJ/f7Pt1e3g6IdLSmPBznmPqTU+BB7AQg7AsU8dgLcQeIq/RnYmVqwK2gLk4hi9C0UKIwQJSh8wp2Tg7nKF0m1o4OhHSEqjOI5Ve6dZRFZlX1aICiISGaRpQGXAStiSwvnCcX9EXZum4MbAhl0UNGbQf5D7geFlyj0GOF84btQdydng6IdL8vvA012Hslt1cJ6L1aqlpGFgcGOWlHsRl2swDmarKQHltAqjxkxJfcqT4BRdeIn0Er4krUw2hX/Uzrgbg1veqzRK0rtoh4C5c9cBhecmsns2OPoR2rfaBm+qA95zvtbp967rNBFHM624pYtWUlYCkF4gg2v0NDSVXrmtn1QWjtdc9Z3YA1eSZrrq1tsKwVvvumN/mTHGM0d7EdNhmA0w2rS7+bbC8FXPfD/F3T0bHH9b3hzHqTs00W/gOVe6CVipmvCVACrBeB0C50r/IcF7qgWbBNBcH4b0CMXfogaaNH1GITh9zuQCMOUxI030pHlwvLlkyozC8OA9DsTdHJ8C4/OWoJvOx7FddUnSWq9DOT5XG+iqdgAJrtEz0Derr8qDNkE9vYoBWgot1Be8lawld1P4j9bywpGSXj4PhSrZ8Snws83k2UA5AA+rA2VprQ54z2u6FjK2a+tdHkCbIeebWrqTk/UoXKPU0Fxd8RR7ixzCB4Xj/nJ3G9TwntE+SzvI3At3GeCDQnFps+5E9inwi62Sy5PnWm3vM3HiwHlaDrTWY6HuuooEPLZLuh3Pj6Ki7kbjeFL14B6NuPORTp06Pnl+qAeupK2MKPyjrg+tYzYgc5DG3ps8wAxv4QEDCsuo23Al8LOtUozk2RinTXslbZBahx4NvaGr8B44VyoHV6nBicrgDzFDwDl6lNTN9WapVJD2ARrHrFeBTQojBC1B6WWGN8BeE1mhdGvgFztLMWq4YRKRr+ubPES/oBZQRh/9U/CUWmsICQLtSKt7qdTyO/4P0ID1sczLtDTCkr5AS18zGuA/bqftc9R9+PFWKUaN6blI3QjMPJWUBW3UOepKGHaPUU8yYMtu9YS62qhz8cYXGlceTlp8NzTVq8WkQ4ph0p3+j8EFpDgoSlCsz8z/ur2ksF2SrnkHKUaN61ihejjCs3UDV+mN0Ge6A+YpfCEW8K50BZ51EmAwQpGN4FR9gy8O7cwshkVJt/9f3KyH0fIbKQwI0h9p6WPm/O9tJEVtv0PU+E8+S6RxTM9TqfHZKZhxzOeZQOOHut8AYNR48wnDcdqHlwIYVPnHa4+cDlDuo3Ow4pCOKYZJSdLpZPoYxkek2CtK78YwenrmJClEbcejVrOxL41oo/h8kafIuKZAGd5H49aF4fB+KcWOmKQvgPej4UPaqDXbB6ks6bCkC1nSABcE3ghbEIRc0keABUHgCQeueFSUXGMcNwL3HhgF/rIkKU4mkyhp425gGD3N4WaKa1dJqSuugf6bBuuB4QbfubZm3+xdYIbRO3Ocasq1xulO4PQ2aIFjf/6Rt378+2cCLRi93XiUlqolpN3J3gsMb+huCsbAzKGqKtecid7IdAhmWG6n02mb3TCGTnm7JhWTtB+Z+c4crqpyrTFtAbf5criWYrXk9UZaZ86mvFWpWkIHkZm3zBGqKdcYYyu4zZk5XFuxUvK8mtaZ+ylvUqqUjLOZYnNmtJyvUC29GjK2zHDHRjPcsWVGgQ9WS6DnQsYwvLRt45iNYXhu2+w4RoG3q6Zcc4KeAxkvjbO8LbhZLzPHG2Y22SnwTtVMCnoObHPgsh8+9o9A2zjWw4zcAns/5JPnAEzh7aqbJD0fuOznD5Sk2/wMwLAOY+Ze95ek233hbOCdqp/0gl3uJ0kpSdLz9wDrYXDEq3aSlJIk3fynb1cNtTzFICkmSX+iwWYYmZMlhShJMWkdMcW0imMKi05MMah7o24C3uHGi7VRPWNK6wVXodemoUG70GDLyJym9cigaz770Y9dxY9+5i0VFqmom4E7YG68SGkdIuphrPLdFRcpSbsxdTOzhtO0Lhl1d/Jq3saPF6yom9P9EqX1iXviq7nlJwuWpF07jtf65DIzw/L8ZxVsMVvvnIWzWhe7sI7hhu91yKGHzPfsH87CfDELs7VOOStzpFbha2gXtHXOrtMUU5zvMny4dpr7BB+so2LnHKRaao6rqXvcfuY9u0Ics6IK2krnTgozVrCWSlDMCsSO297xVrceequ77VBTTaC4F0gdFzDmO5XqKrA+x9OUoVNeW3Wdy5hv1aSeSpBLyRA79rjitDOHnsZLlOqpDXROOlawltpy+ZWXXHLJJZfnHRcvo7pmlDrN9+LhOEQLY2a1NSuF887MuZAZ3plzEc5ZJJiLMAPMOzPnIpyzSMC8mfMxn9kpCkejhP5qCeOQl/7Q1iFHgmPcTC5ZvGfscRENR+VuW/K7hsKwNWCw5ieMys/My8oZ3yCi5aTcrUv+0Nd4eGeLJraOBYG0auIvUlOSrNJ47dohHUGS66TvlkgLusEu1cSBBEhbpnwvnU/AfdLENdK8J6ChNOUnaVCJX+hc8K6tBFyiiSSZIp0HD6gXIAHtdQOwVJUisoBL6wAnaCmgbOBZnQPsVl2gp87Bl+zN8WITrd9wzNCxANoI1dWXCqApeFaocoRILcGR+oBKoKFwou4CSOpzXMneplmbFr7aZ1x4rubj+FngQYJAs4Dj9D5Bnmo0u/g0ZUNVjQZO0nPwhFau/euvzUs0t0QvaEcnl1JgB4VFrskuhWencFG8r3HXPCnVwbMmDePwdQrvBP6tQde8KJWDt/XblLmz58749e4SvgmdaTGbgxmOw6S7Ds2oowV52jT/T2nlmWD8qor4CCpKDx9WISEBWTPXSr+3IuBZnULJ/KAEuZQMseNYjKGF1ystLoCjvToA5O18HUq0MUpNANNuuEavAoRuVUBkwBnqDUlf8jeBAgap4wzGfKMmi0lNTQzBFfoU6K2pOKalk6lNb330+F2nQ0Bn9YZTpE1wmoYDPbQZGmpl9w8fueMkgK26GMh4rQlWunAyNijzWqXF5EhpU3bWHp3EVmmRcrQZzwolUvGhIjdXALIlacxsAfOkxZIE9FXkcgeNJC1fKzXCleglKGYFYsfpjPmOxcTIGD1vwaJFi9b+Df/KgqVv8e63eN5Yn8Bg8EQ4QwOA4CV9QYLEu4umX8arszF4ZPHinnSYBJfpcyDjHb1OArt39srZj5SjpH3QhM7UsXXnHXbasf9OO1xnSVpE8uNkEanhGPv4dxGupK9wRgn9oC1dO3as4ELio8G8996cA5yPcM4zVJ/V9BlnrtP5eMx773EOMO+9N+cdk9Wjui93zi6diMN82Er2JF175y1btmzZej11hhiGx8VlPxvMVuS97Gsj4w9FXk8J/rA5XrzCFa66/+aW7N8q1953U1NK9IeFzqsljGi3H4xoV5owx4sYmA8Cx/41HwSOEv2rWUpF67cwK9Rjc1xHBW084pjDjzzy8KOO36gwK4xZVW2ic0PX+IuRpXKlNwmanBsnduxy4v4HDTxwv3Oep7Qo5UNjnMpj6a1YWLowgQIOqeNixny7JgvRqVJTXMhxhvQv3L5ZqGRaBhJYqYP1OZrLtw29jFcpLT5BMulPUv4lzcP2zXRZWsD23aUP7r1axvyAJgsRP/+gijhwHKfPsuZEeAfOR5g3C5ghH3LOzBsGu7JLFxLkUjLEjvs+/AGD7//Y6ygsRr+eqI/xofGqrKh0jcifo6KN0oed6NyxYwUXofVIRGoqmoUZnDlAe4eeDBg8tmbHfzNcHgcX/aKs1ypQ6iDpKU943OMe97gnPF2dMY0ZFqVdfKUrcAGP60w0E4NPpV//kHoCtkmar72rlAS+VdaQ2VKz0og5XowO0yyAXSIU8ICmALWydSl8oLfAfpIy4EZ9DlTU+tKI1Hm1wDb4XbXgVL1IGc0E1gmccaYmQY7AwUIFMF+E+6lSKcQcL0jt9D58pySJUDVtAxxoPWX1Gx7PFCVAWp69K2uD1Cr2hHJJahpYqJbmAAbaziEahwE/K4GXxk/+z+TJk4ZmxJ/66Mg7dVIaK8E8lbScKlqOETBJCdAy0ix1SJ1XG7TRhD1ZgNMsYKPqANyt3iAlAXYoCfN0KMlkKcUcL0B5E8CfUmeSmKYS8LSmZMA5Uh34RH3haEkZcLMWAlzXFdi6szQhaOmXP/vxj3/845/+NnXEFIensCAhCHhBqoKnrFbgYLgi2+DxkrI19kOVAz6XtqyWJgBS6cIOdO6gMGMFFx1J/9MLHHWWvkz4u6cwg9N7/jLzQQ8Y3D9lyg3cPAcMGr3/x+yvTgXoN5CS/UEJpm07NULHx378tW8O/dpvHqi4EI1qRDvAKKUcNIHi7pA6tjHmezVZiJKL8C7CO8LOe++NsHnvPeYjnPfeu5D3pQ9gfY7kkisHXnEpr1RaiNZrR3H3PlPGfJ8m9VSCadtOjdDx1s988MNDP/jVuyvUUzvRuWPHCtZRUvzSZz/16U9/6jNfCZod05ihpprnamrSWY/NcfV0htKGpck8L+2gpw48qirmUwDvzl9BYZhIUjE2sVcb73yofT7vcMNQ7c1PheauuIRyVVDzi1Fx3KDCcEifCYpJ5OQoZ3f+35WtnNz8AmVeeebZgv/Ms08/fVM8IjdXBTf/xGgdTbV7d1bB3a6P80tQWPr4g+d0FfD++SU+a2QO+qYgfzm8HRYviqObK9je4kcH/f8/wQMX1/JBEATe7YOYuVF58JVYvvMWC/py2NDRg56slxfHMZqAy3dxYCNQdK88ZapX/gsuqRoHQpuBo3fqSjzggiCwqH9FuCDwBvikRQQecEEQ+IjAY0HggQTn6RPKxYF2Alyq/jhSWhpGpGffGnmtpk7EfkN7oDwnaxwG1Ov0YYdypDCDE7q9fz3APZ9nYMAHDwFNnnnvpfPB4LU7qPLMm1cCrmsfTX3yq+ZY7Gc7wDPqhoeXFf4AIgIYr/D1MFgdCRxNNYeEIucCaGd7SZoKVRT5ND72s+Ow+i16aDMk6KIhUK6v/h5lTFFHOHy9DqepFkCCt3UKFcZcDgzSI3g2SD2s5izdBByrV4j9Gi5X4Y/BQIsIa1kU9fQSQD29BAtUFdBfpKyuQRjbdBbQUCNI0lxd40BIl1zwL40ETwN91+7VF7t2luDQUGd93umVrs8+rwlwux6EK/UU3iJqqB/GXkGSylpGglZ6jSAOtAXopndJco5SLknxnlJ+AuW1GH7QoXjK9Fe4TwpHBa0hoIVewceB9uAJJIM2epPUmaF3dTZpzlISrQeqSxMev/d59UujklZFvBYXwvOuHoAampzCRd2gzvgoz926uLn+Thne0N0A6p+nVnqeZBxoJwS01Dxguc4JZR4BmeoNlaQEQONKONCMsYIE3XUB8Jh6Y2RFVNBKApprDLHfkMBgu06HBtKATk/9orfgcPUn4AHp00eek87AJfhaGoM5GkrvP7xZGoKhiGraiAPpg/ndCWI+Sa0GPO30JgmOHiwp+xWgrr7FwcUzJS25EXCcLF2DB67aJS2rkTsUx9aIpJZixtm7pMvxsR4gQXSCvAbk04B4s/OhIBTtI3xefMhHpe8Ai/9YCguBmRFpEWBmpDSLAjOwCIuwCDAO+v//iAx8fvBB/Ml8OBQTd0Q76PMUtr+MF3rFngjuG/XdJ2cBSPvP8Zc8Fm+6QdEVQevywywRa3JcK10A3KCnQJvxQeAjfBAReMAHWBAEFvo1IghCPgh8zMgoLzUmXLYGaBP7PcoTW/bcpV54wxIAWk297m9fDAYduoPBW11wtOsOnT5+IA14/ZPQ1Z92OzdmBFN1Oh7AHGjxnZI0AiBLVfEg4fhDd0tSdgUSUeM0AGyrJA3Fx4uyVQULhSV1IHO5TsexQBVCOatxDJWGlKWnPqNMxAS9Cjyp8+G657F40R6VT+8I4Dx9hOM3lQ9pI46ReghAWyD0ol6FJCNEHHmvKqa1FgtooEl5GqUESdgpYJ5e0YuA43JtPDmGtEHH4CIMtAkcx+knHH/koTIOtofma5iewQDaSXoELE7kGKebKQOYI8JCP+BZqAwcaFMKn2KeWKIb8IQv3aY5xIod12g1eGeE00nyg2pTFrQ2olJoR2iu8FJtfAgmqT4uRgQs0EDC418EbQwdo+8pwydqD0zV7zhGqhIOtoXmyLhAO4EGoX6qGy9yVFkvjesxTboFtD3URNNIcrg08Vtt37QDxyRVxoNCvwvoqrEgvdt+tkYTMzZ4crOkj44gVV2NxsPpa6Vh/JCLo59q42BZaLICYLTu46o/Jb0OFi/CkS8d6RoYOFIbcWPzocDlzQHeReXdAHwoIJ5spG8RYKS2tIywETYO+v+g/w/6v3IEAFZQOCDsAQAAcDgAnQEq0AJTAT5tNplJpCMioSAIAIANiWlu4XdhG0AJ7APfbJyHvtk5D32ych77ZOQ99snIe+2TkPfbJyHvtk5D32ych77ZOQ99snIe+2TkPfbJyHvtk5D32ych77ZOQ99snIe+2TkPfbJyHvtk5D32ych77ZOQ99snIe+2TkPfbJyHvtk5D32ych77ZOQ99snIe+2TkPfbJyHvtk5D32ych77ZOQ99snIe+2TkPfbJyHvtk5D32ych77ZOQ99snIe+2TkPfbJyHvtk5D32ych77ZOQ99snIe+2TkPfbJyHvtk5D32ych77ZOQ99snIe+2TkPfbJyHvtk5D32ych77ZOQ99snIe+2TkPfbJyHvtk5D32ych77ZOQ99snIe+2TkPfbJyHvtk5D32ych77ZOQ99snIe+2TkPfbJyHvtk5D32ych77ZOQ99snIe+2TkPfbJyHvtk5D32ych77ZOQ99snIe+2TkPfbJyHvtk5D32ych77ZOQ99snIe+2TkPfbJyHvtk5D32ych77ZOQ99snIe+2TkPfbJyHvtk5D32ych77ZOQ99snIe+2TkPfbJyHvtk5D32ych77ZOQ99snIe+2TkPfbJyHvrAAD+/+sAAAAAAAAAAAAAAAAAAAAAAAAAAAAAAAAAAAAARVhJRroAAABFeGlmAABJSSoACAAAAAYAEgEDAAEAAAABAAAAGgEFAAEAAABWAAAAGwEFAAEAAABeAAAAKAEDAAEAAAACAAAAEwIDAAEAAAABAAAAaYcEAAEAAABmAAAAAAAAAEgAAAABAAAASAAAAAEAAAAGAACQBwAEAAAAMDIxMAGRBwAEAAAAAQIDAACgBwAEAAAAMDEwMAGgAwABAAAA//8AAAKgBAABAAAA0AIAAAOgBAABAAAAUwEAAAAAAAA=)"
      ],
      "metadata": {
        "id": "eSRttOPhPs9n"
      }
    },
    {
      "cell_type": "markdown",
      "source": [
        "Fig. Generation step in a RAG system"
      ],
      "metadata": {
        "id": "6qyLmHpqPpaR"
      }
    },
    {
      "cell_type": "markdown",
      "source": [
        "In this section, we examine the prompt utilized for the generation process. The prompt includes a concise role description, the user’s query, and the relevant data. Depending on the specific problem at hand and the model being employed, it may be necessary to experiment with the prompt to determine the most effective approach"
      ],
      "metadata": {
        "id": "7FF5nqs9P8ij"
      }
    },
    {
      "cell_type": "code",
      "execution_count": 18,
      "metadata": {
        "id": "wl5tTGpmMn38"
      },
      "outputs": [],
      "source": [
        "def make_rag_prompt(query, relevant_passage):\n",
        "  escaped = relevant_passage.replace(\"'\", \"\").replace('\"', \"\").replace(\"\\n\", \" \")\n",
        "  prompt = (\"\"\"You are a helpful and informative bot that answers questions using text from the reference passage included below. \\\n",
        "  Be sure to respond in a complete sentence, being comprehensive, including all relevant background information. \\\n",
        "  However, you are talking to a non-technical audience, so be sure to break down complicated concepts and \\\n",
        "  strike a friendly and converstional tone. \\\n",
        "  If the passage is irrelevant to the answer, you may ignore it.\n",
        "  QUESTION: '{query}'\n",
        "  PASSAGE: '{relevant_passage}'\n",
        "\n",
        "  ANSWER:\n",
        "  \"\"\").format(query=query, relevant_passage=escaped)\n",
        "\n",
        "  return prompt"
      ]
    },
    {
      "cell_type": "markdown",
      "source": [
        "The function given below is used to generate response for a given prompt with the Gemini Pro API"
      ],
      "metadata": {
        "id": "FDGWH3nAP_vS"
      }
    },
    {
      "cell_type": "code",
      "execution_count": 19,
      "metadata": {
        "id": "aNcd2jwGMn38"
      },
      "outputs": [],
      "source": [
        "import google.generativeai as genai\n",
        "def generate_response(prompt):\n",
        "    #gemini_api_key = os.getenv(\"GEMINI_API_KEY\")\n",
        "    gemini_api_key = userdata.get('GOOGLE_API_KEY')\n",
        "    if not gemini_api_key:\n",
        "        raise ValueError(\"Gemini API Key not provided. Please provide GEMINI_API_KEY as an environment variable\")\n",
        "    genai.configure(api_key=gemini_api_key)\n",
        "    model = genai.GenerativeModel('gemini-pro')\n",
        "    answer = model.generate_content(prompt)\n",
        "    return answer.text"
      ]
    },
    {
      "cell_type": "markdown",
      "metadata": {
        "id": "JjMBGcNtMn38"
      },
      "source": [
        "# Bringing it all together"
      ]
    },
    {
      "cell_type": "markdown",
      "source": [
        "Bringing it all together\n",
        "In the concluding step, let’s integrate the components we have constructed thus far. We will now proceed to code the following sequential steps:\n",
        "\n",
        "1. Load the ChromaDB collection.\n",
        "2. Retrieve the top n most relevant chunks of data for a given user query.\n",
        "3. Construct the prompt by combining the user query with the relevant data.\n",
        "4. Generate the response.\n",
        "\n",
        "Here is the final generate_answer function that will do these tasks sequentially"
      ],
      "metadata": {
        "id": "DwoR3Cm4QDCz"
      }
    },
    {
      "cell_type": "code",
      "execution_count": 20,
      "metadata": {
        "id": "6uVdQR0LMn38"
      },
      "outputs": [],
      "source": [
        "\n",
        "def generate_answer(db,query):\n",
        "    #retrieve top 3 relevant text chunks\n",
        "    relevant_text = get_relevant_passage(query,db,n_results=3)\n",
        "    prompt = make_rag_prompt(query,\n",
        "                             relevant_passage=\"\".join(relevant_text)) # joining the relevant chunks to create a single passage\n",
        "    answer = generate_response(prompt)\n",
        "\n",
        "    return answer\n",
        "\n",
        "\n",
        ""
      ]
    },
    {
      "cell_type": "code",
      "execution_count": 22,
      "metadata": {
        "colab": {
          "base_uri": "https://localhost:8080/",
          "height": 54
        },
        "id": "HrWPx80VMn39",
        "outputId": "c5cbd7c8-1101-4f9a-cb1c-3eb0fba4294b"
      },
      "outputs": [
        {
          "output_type": "stream",
          "name": "stdout",
          "text": [
            "Together with allied nations, Russia is facing severe economic sanctions. Russia's largest banks have been barred from using the international financial system; its central bank is being blocked from defending the Russian ruble, thus deeming Putin's $630 billion war fund worthless; and its access to crucial technologies is being restricted, which will impact both its economy and military for years to come.\n"
          ]
        }
      ],
      "source": [
        "db=load_chroma_collection(path=\"/content/RAG/contents\", #replace with path of your persistent directory\n",
        "                          name=\"rag_experiment\") #replace with the collection name\n",
        "\n",
        "answer = generate_answer(db,query=\"what sanctions have been placed on Russia\")\n",
        "print(answer)\n"
      ]
    },
    {
      "cell_type": "markdown",
      "source": [
        "This is the response generated by the model based on the data provided\n",
        "\n",
        "```\n",
        "Sanctions imposed on Russia include cutting off its largest banks from the international financial system, preventing its central bank from defending the Russian Ruble, and choking off its access to technology that will weaken its military and economy. Furthermore, the US and its allies have closed off American airspace to all Russian flights.\n",
        "```\n",
        "\n"
      ],
      "metadata": {
        "id": "HBB_jgRJQOVw"
      }
    },
    {
      "cell_type": "markdown",
      "source": [
        "## Conclusion\n",
        "\n",
        "Voila, we just built a basic yet complete RAG system from scratch. The aim of this article was to provide an understanding of the working of a RAG system and the different components involved in it."
      ],
      "metadata": {
        "id": "7rTNnGmHQUmq"
      }
    }
  ],
  "metadata": {
    "kernelspec": {
      "display_name": "gemini",
      "language": "python",
      "name": "python3"
    },
    "language_info": {
      "codemirror_mode": {
        "name": "ipython",
        "version": 3
      },
      "file_extension": ".py",
      "mimetype": "text/x-python",
      "name": "python",
      "nbconvert_exporter": "python",
      "pygments_lexer": "ipython3",
      "version": "3.11.7"
    },
    "colab": {
      "provenance": []
    }
  },
  "nbformat": 4,
  "nbformat_minor": 0
}